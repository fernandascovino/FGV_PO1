{
 "cells": [
  {
   "cell_type": "markdown",
   "metadata": {
    "toc": true
   },
   "source": [
    "<h1>Table of Contents<span class=\"tocSkip\"></span></h1>\n",
    "<div class=\"toc\"><ul class=\"toc-item\"><li><span><a href=\"#Seção-2.1\" data-toc-modified-id=\"Seção-2.1-1\"><span class=\"toc-item-num\">1&nbsp;&nbsp;</span>Seção 2.1</a></span><ul class=\"toc-item\"><li><span><a href=\"#Exercício-1\" data-toc-modified-id=\"Exercício-1-1.1\"><span class=\"toc-item-num\">1.1&nbsp;&nbsp;</span>Exercício 1</a></span></li></ul></li><li><span><a href=\"#Seção-2.2-&amp;-2.3\" data-toc-modified-id=\"Seção-2.2-&amp;-2.3-2\"><span class=\"toc-item-num\">2&nbsp;&nbsp;</span>Seção 2.2 &amp; 2.3</a></span></li><li><span><a href=\"#Seção-2.4\" data-toc-modified-id=\"Seção-2.4-3\"><span class=\"toc-item-num\">3&nbsp;&nbsp;</span>Seção 2.4</a></span><ul class=\"toc-item\"><li><span><a href=\"#Exercício-2\" data-toc-modified-id=\"Exercício-2-3.1\"><span class=\"toc-item-num\">3.1&nbsp;&nbsp;</span>Exercício 2</a></span></li></ul></li><li><span><a href=\"#Seção-2.5\" data-toc-modified-id=\"Seção-2.5-4\"><span class=\"toc-item-num\">4&nbsp;&nbsp;</span>Seção 2.5</a></span><ul class=\"toc-item\"><li><span><a href=\"#Exercício-2\" data-toc-modified-id=\"Exercício-2-4.1\"><span class=\"toc-item-num\">4.1&nbsp;&nbsp;</span>Exercício 2</a></span></li><li><span><a href=\"#Exercício-3\" data-toc-modified-id=\"Exercício-3-4.2\"><span class=\"toc-item-num\">4.2&nbsp;&nbsp;</span>Exercício 3</a></span></li><li><span><a href=\"#Exercício-6\" data-toc-modified-id=\"Exercício-6-4.3\"><span class=\"toc-item-num\">4.3&nbsp;&nbsp;</span>Exercício 6</a></span></li></ul></li></ul></div>"
   ]
  },
  {
   "cell_type": "markdown",
   "metadata": {},
   "source": [
    "# Lista 2\n",
    "----\n",
    "\n",
    "Exercícios resolvidos dos capítulos 2 e 3 do livro [A Gentle Introduction to Optimization](https://www.amazon.com/Gentle-Introduction-Optimization-B-Guenin-ebook/dp/B00KL8CHHU), listados abaixo.\n",
    "\n",
    "- Sec.2.1 (certificados): ~~1a, 1b, 1c, 1d, 2i, 2ii~~\n",
    "\n",
    "- Sec 2.2 (forma padrão): ~~1a, 1b~~\n",
    "\n",
    "- Sec 2.3 (iteração Simplex): ~~1a, 1b~~\n",
    "\n",
    "- Sec 2.4 (Bases e Forma canônica): ~~1a, 1b, 1c, 1d, 2a, 2b, 3, 4,a, 4b, 4c, 4d, 5a, 5b, 5c, 5d, 5e~~\n",
    "\n",
    "- Sec 2.5 (Simplex): ~~1a, 1b, 2a, 2b, 3,~~ 4, 5, 6a, 6b, 6c\n",
    "\n",
    "- Sec 2.6 (Simplex 2 fases): 1a, 1b, 1c, 1d, 1e\n",
    "\n",
    "\n",
    "- Sec. 3 ()"
   ]
  },
  {
   "cell_type": "code",
   "execution_count": 3,
   "metadata": {},
   "outputs": [],
   "source": [
    "import numpy as np"
   ]
  },
  {
   "cell_type": "markdown",
   "metadata": {},
   "source": [
    "### Seção 2.1\n",
    "\n",
    "#### Exercício 1\n",
    "(a) \n",
    "\n",
    "Provar que o problema é infactível"
   ]
  },
  {
   "cell_type": "code",
   "execution_count": 4,
   "metadata": {},
   "outputs": [],
   "source": [
    "A = np.array([[3, 5, 6], [1, 3, -4], [-1, 1, -1]])"
   ]
  },
  {
   "cell_type": "code",
   "execution_count": 5,
   "metadata": {},
   "outputs": [],
   "source": [
    "b = np.array([4, 2, -1]).reshape(3, 1)"
   ]
  },
  {
   "cell_type": "markdown",
   "metadata": {},
   "source": [
    "Queremos $y$ tal que:\n",
    "\n",
    "$\\text{(i) } y^{T} A \\geq \\vec{0}^{T},$\n",
    "\n",
    "$\\text{(ii) } y^{T} b < 0$"
   ]
  },
  {
   "cell_type": "code",
   "execution_count": 6,
   "metadata": {},
   "outputs": [],
   "source": [
    "y = np.array([1, -2, 1])"
   ]
  },
  {
   "cell_type": "code",
   "execution_count": 7,
   "metadata": {},
   "outputs": [
    {
     "data": {
      "text/plain": [
       "array([ 0,  0, 13])"
      ]
     },
     "execution_count": 7,
     "metadata": {},
     "output_type": "execute_result"
    }
   ],
   "source": [
    "np.dot(y.T, A) # (i)"
   ]
  },
  {
   "cell_type": "code",
   "execution_count": 8,
   "metadata": {},
   "outputs": [
    {
     "data": {
      "text/plain": [
       "array([-1])"
      ]
     },
     "execution_count": 8,
     "metadata": {},
     "output_type": "execute_result"
    }
   ],
   "source": [
    "np.dot(y.T, b) # (ii)"
   ]
  },
  {
   "cell_type": "markdown",
   "metadata": {},
   "source": [
    "(b) \n",
    "\n",
    "Provar que o problema é ilimitado"
   ]
  },
  {
   "cell_type": "code",
   "execution_count": 9,
   "metadata": {},
   "outputs": [],
   "source": [
    "A = np.array([[1, 0, 1, -1], \n",
    "              [0, 1, 2, -1]])"
   ]
  },
  {
   "cell_type": "code",
   "execution_count": 10,
   "metadata": {},
   "outputs": [],
   "source": [
    "b = np.array([1, 2]).reshape(2, 1)"
   ]
  },
  {
   "cell_type": "code",
   "execution_count": 11,
   "metadata": {},
   "outputs": [],
   "source": [
    "c = np.array([0, 0, -1, 1]).reshape(4, 1)"
   ]
  },
  {
   "cell_type": "markdown",
   "metadata": {},
   "source": [
    "Queremos $x = x' + dt : Ax = b, \\forall t$ tal que:\n",
    "\n",
    "$\\text{(i) } d > 0$\n",
    "\n",
    "$\\text{(ii) }c^T d \\geq 0 \\rightarrow d_3 < d_4$\n",
    "\n",
    "$\\text{(iii) }Ad = 0 \\rightarrow d_1 + 2 d_3 = 0$"
   ]
  },
  {
   "cell_type": "code",
   "execution_count": 12,
   "metadata": {},
   "outputs": [
    {
     "data": {
      "text/plain": [
       "array([[2],\n",
       "       [1],\n",
       "       [1],\n",
       "       [3]])"
      ]
     },
     "execution_count": 12,
     "metadata": {},
     "output_type": "execute_result"
    }
   ],
   "source": [
    "d = np.array([2, 1, 1, 3]).reshape(4, 1) # (i) d > 0\n",
    "d"
   ]
  },
  {
   "cell_type": "code",
   "execution_count": 13,
   "metadata": {},
   "outputs": [
    {
     "data": {
      "text/plain": [
       "array([[2]])"
      ]
     },
     "execution_count": 13,
     "metadata": {},
     "output_type": "execute_result"
    }
   ],
   "source": [
    "np.dot(c.T, d) # (ii) c'd > 0"
   ]
  },
  {
   "cell_type": "code",
   "execution_count": 14,
   "metadata": {},
   "outputs": [
    {
     "data": {
      "text/plain": [
       "array([[0],\n",
       "       [0]])"
      ]
     },
     "execution_count": 14,
     "metadata": {},
     "output_type": "execute_result"
    }
   ],
   "source": [
    "np.dot(A, d) # (iii) Ad = 0"
   ]
  },
  {
   "cell_type": "markdown",
   "metadata": {},
   "source": [
    "Logo, $x = x' + dt$ é:"
   ]
  },
  {
   "cell_type": "code",
   "execution_count": 15,
   "metadata": {},
   "outputs": [
    {
     "data": {
      "text/plain": [
       "array([[0],\n",
       "       [0],\n",
       "       [1],\n",
       "       [0]])"
      ]
     },
     "execution_count": 15,
     "metadata": {},
     "output_type": "execute_result"
    }
   ],
   "source": [
    "x_ = np.array([0, 0, 1, 0]).reshape(4, 1)\n",
    "x_"
   ]
  },
  {
   "cell_type": "code",
   "execution_count": 16,
   "metadata": {},
   "outputs": [
    {
     "data": {
      "text/plain": [
       "array([[ True],\n",
       "       [ True]])"
      ]
     },
     "execution_count": 16,
     "metadata": {},
     "output_type": "execute_result"
    }
   ],
   "source": [
    "np.dot(A, x_) == b"
   ]
  },
  {
   "cell_type": "markdown",
   "metadata": {},
   "source": [
    "Logo, temos $x = [0, 0, 1, 0] + [2, 1, 1, 3]t$. Para a letra (d), queremos $c^T x = 5000$, logo $t = \\frac{5001}{2}$:"
   ]
  },
  {
   "cell_type": "code",
   "execution_count": 17,
   "metadata": {},
   "outputs": [
    {
     "data": {
      "text/plain": [
       "array([[5001. ],\n",
       "       [2500.5],\n",
       "       [2501.5],\n",
       "       [7501.5]])"
      ]
     },
     "execution_count": 17,
     "metadata": {},
     "output_type": "execute_result"
    }
   ],
   "source": [
    "x = x_ + (5001/2)*d\n",
    "x"
   ]
  },
  {
   "cell_type": "code",
   "execution_count": 18,
   "metadata": {},
   "outputs": [
    {
     "data": {
      "text/plain": [
       "array([[5000.]])"
      ]
     },
     "execution_count": 18,
     "metadata": {},
     "output_type": "execute_result"
    }
   ],
   "source": [
    "np.dot(c.T, x)"
   ]
  },
  {
   "cell_type": "code",
   "execution_count": 19,
   "metadata": {},
   "outputs": [
    {
     "data": {
      "text/plain": [
       "array([[ True],\n",
       "       [ True]])"
      ]
     },
     "execution_count": 19,
     "metadata": {},
     "output_type": "execute_result"
    }
   ],
   "source": [
    "np.dot(A, x) == b"
   ]
  },
  {
   "cell_type": "markdown",
   "metadata": {},
   "source": [
    "(c)"
   ]
  },
  {
   "cell_type": "code",
   "execution_count": 20,
   "metadata": {},
   "outputs": [],
   "source": [
    "A = np.array([[4, 2, 1, -6, -1], [-1, 1, -4, 1, 3], [3, -6, 5, 3, -5]])"
   ]
  },
  {
   "cell_type": "code",
   "execution_count": 21,
   "metadata": {},
   "outputs": [],
   "source": [
    "b = np.array([11, -2, -10]).reshape(3, 1)"
   ]
  },
  {
   "cell_type": "code",
   "execution_count": 22,
   "metadata": {},
   "outputs": [],
   "source": [
    "c = np.array([1, -2, 1, 1, 1]).reshape(5, 1)"
   ]
  },
  {
   "cell_type": "code",
   "execution_count": 23,
   "metadata": {},
   "outputs": [],
   "source": [
    "d = np.array([1, 1, 1, 1, 1]).reshape(5, 1)"
   ]
  },
  {
   "cell_type": "code",
   "execution_count": 24,
   "metadata": {},
   "outputs": [
    {
     "data": {
      "text/plain": [
       "array([[2]])"
      ]
     },
     "execution_count": 24,
     "metadata": {},
     "output_type": "execute_result"
    }
   ],
   "source": [
    "np.dot(c.T, d) # (ii) c'd > 0"
   ]
  },
  {
   "cell_type": "code",
   "execution_count": 25,
   "metadata": {},
   "outputs": [
    {
     "data": {
      "text/plain": [
       "array([[0],\n",
       "       [0],\n",
       "       [0]])"
      ]
     },
     "execution_count": 25,
     "metadata": {},
     "output_type": "execute_result"
    }
   ],
   "source": [
    "np.dot(A, d) # (iii) Ad = 0"
   ]
  },
  {
   "cell_type": "code",
   "execution_count": 26,
   "metadata": {},
   "outputs": [],
   "source": [
    "x_ = np.array([1, 3, 1, 0, 0]).reshape(5, 1)"
   ]
  },
  {
   "cell_type": "code",
   "execution_count": 27,
   "metadata": {},
   "outputs": [
    {
     "data": {
      "text/plain": [
       "array([[ 11],\n",
       "       [ -2],\n",
       "       [-10]])"
      ]
     },
     "execution_count": 27,
     "metadata": {},
     "output_type": "execute_result"
    }
   ],
   "source": [
    "np.dot(A, x_)"
   ]
  },
  {
   "cell_type": "markdown",
   "metadata": {},
   "source": [
    "Logo, temos $x = [1, 3, 1, 0, 0] + [1, 1, 1, 1, 1]t$. Para a letra (d), queremos $c^T x = 5000$, logo $t = 2502$:"
   ]
  },
  {
   "cell_type": "code",
   "execution_count": 28,
   "metadata": {},
   "outputs": [
    {
     "data": {
      "text/plain": [
       "array([[2503],\n",
       "       [2505],\n",
       "       [2503],\n",
       "       [2502],\n",
       "       [2502]])"
      ]
     },
     "execution_count": 28,
     "metadata": {},
     "output_type": "execute_result"
    }
   ],
   "source": [
    "x = x_ + 2502*d\n",
    "x"
   ]
  },
  {
   "cell_type": "code",
   "execution_count": 29,
   "metadata": {},
   "outputs": [
    {
     "data": {
      "text/plain": [
       "array([[5000]])"
      ]
     },
     "execution_count": 29,
     "metadata": {},
     "output_type": "execute_result"
    }
   ],
   "source": [
    "np.dot(c.T, x)"
   ]
  },
  {
   "cell_type": "code",
   "execution_count": 30,
   "metadata": {},
   "outputs": [
    {
     "data": {
      "text/plain": [
       "array([[ True],\n",
       "       [ True],\n",
       "       [ True]])"
      ]
     },
     "execution_count": 30,
     "metadata": {},
     "output_type": "execute_result"
    }
   ],
   "source": [
    "np.dot(A, x) == b"
   ]
  },
  {
   "cell_type": "markdown",
   "metadata": {},
   "source": [
    "### Seção 2.2 & 2.3\n",
    "No papel"
   ]
  },
  {
   "cell_type": "markdown",
   "metadata": {},
   "source": [
    "### Seção 2.4\n",
    "\n",
    "#### Exercício 2\n",
    "\n",
    "(a)"
   ]
  },
  {
   "cell_type": "code",
   "execution_count": 31,
   "metadata": {},
   "outputs": [
    {
     "data": {
      "text/plain": [
       "array([[ 1, -1,  2, -1,  0],\n",
       "       [ 2,  0,  1, -1,  1]])"
      ]
     },
     "execution_count": 31,
     "metadata": {},
     "output_type": "execute_result"
    }
   ],
   "source": [
    "A = np.array([[1, -1, 2, -1, 0], [2, 0, 1, -1, 1]])\n",
    "A"
   ]
  },
  {
   "cell_type": "code",
   "execution_count": 32,
   "metadata": {},
   "outputs": [
    {
     "data": {
      "text/plain": [
       "array([[ 1],\n",
       "       [-1]])"
      ]
     },
     "execution_count": 32,
     "metadata": {},
     "output_type": "execute_result"
    }
   ],
   "source": [
    "b = np.array([[1], [-1]])\n",
    "b"
   ]
  },
  {
   "cell_type": "code",
   "execution_count": 33,
   "metadata": {},
   "outputs": [
    {
     "data": {
      "text/plain": [
       "array([[ 1],\n",
       "       [-2],\n",
       "       [ 0],\n",
       "       [ 1],\n",
       "       [ 3]])"
      ]
     },
     "execution_count": 33,
     "metadata": {},
     "output_type": "execute_result"
    }
   ],
   "source": [
    "c = np.array([1, -2, 0, 1, 3]).reshape(5,1)\n",
    "c"
   ]
  },
  {
   "cell_type": "code",
   "execution_count": 34,
   "metadata": {},
   "outputs": [],
   "source": [
    "B = [0, 3] # indexação começa em 0! B = [1, 4]"
   ]
  },
  {
   "cell_type": "code",
   "execution_count": 133,
   "metadata": {},
   "outputs": [],
   "source": [
    "def canonical_form(A, b, c, B, w=0):\n",
    "    \"\"\"\n",
    "    Passa o PL para a forma canônica: (i) A_B deve ser identidade, (ii) c_B = 0\n",
    "    \n",
    "    Return\n",
    "    ------\n",
    "    A : np.array\n",
    "    b : np.array\n",
    "    c : np.array\n",
    "    w : int\n",
    "    \"\"\"\n",
    "\n",
    "    if not np.all(c[B] != 0) or not np.all(A[:, B] != np.identity(len(B))):\n",
    "\n",
    "        A_Binv = np.linalg.inv(A[:, B])\n",
    "        y = A_Binv.T.dot(c[B])\n",
    "        c = c.T - y.T.dot(A).ravel()\n",
    "        c = c.T\n",
    "        print(np.dot(y.T, b))\n",
    "        w = w + np.dot(y.T, b)\n",
    "\n",
    "        A = A_Binv.dot(A)\n",
    "        b = A_Binv.dot(b)\n",
    "        print(\">> Problema canonizado!\")\n",
    "        return A, b, c, w\n",
    "\n",
    "    else:\n",
    "        print(\">> Problema ja na forma canonica!\")"
   ]
  },
  {
   "cell_type": "code",
   "execution_count": 36,
   "metadata": {},
   "outputs": [
    {
     "name": "stdout",
     "output_type": "stream",
     "text": [
      ">> Problema canonizado!\n"
     ]
    }
   ],
   "source": [
    "A, b, c, w = canonical_form(A, b, c, B)"
   ]
  },
  {
   "cell_type": "code",
   "execution_count": 37,
   "metadata": {},
   "outputs": [
    {
     "data": {
      "text/plain": [
       "array([[ 1.,  1., -1.,  0.,  1.],\n",
       "       [ 0.,  2., -3.,  1.,  1.]])"
      ]
     },
     "execution_count": 37,
     "metadata": {},
     "output_type": "execute_result"
    }
   ],
   "source": [
    "A"
   ]
  },
  {
   "cell_type": "code",
   "execution_count": 38,
   "metadata": {},
   "outputs": [
    {
     "data": {
      "text/plain": [
       "array([[-2.],\n",
       "       [-3.]])"
      ]
     },
     "execution_count": 38,
     "metadata": {},
     "output_type": "execute_result"
    }
   ],
   "source": [
    "b"
   ]
  },
  {
   "cell_type": "code",
   "execution_count": 39,
   "metadata": {},
   "outputs": [
    {
     "data": {
      "text/plain": [
       "array([[ 0.],\n",
       "       [-5.],\n",
       "       [ 4.],\n",
       "       [ 0.],\n",
       "       [ 1.]])"
      ]
     },
     "execution_count": 39,
     "metadata": {},
     "output_type": "execute_result"
    }
   ],
   "source": [
    "c"
   ]
  },
  {
   "cell_type": "markdown",
   "metadata": {},
   "source": [
    "(b)"
   ]
  },
  {
   "cell_type": "code",
   "execution_count": 40,
   "metadata": {},
   "outputs": [
    {
     "data": {
      "text/plain": [
       "array([[ 1, -1,  2, -1,  0],\n",
       "       [ 2,  0,  1, -1,  1]])"
      ]
     },
     "execution_count": 40,
     "metadata": {},
     "output_type": "execute_result"
    }
   ],
   "source": [
    "A = np.array([[1, -1, 2, -1, 0], [2, 0, 1, -1, 1]])\n",
    "A"
   ]
  },
  {
   "cell_type": "code",
   "execution_count": 41,
   "metadata": {},
   "outputs": [
    {
     "data": {
      "text/plain": [
       "array([[ 1],\n",
       "       [-1]])"
      ]
     },
     "execution_count": 41,
     "metadata": {},
     "output_type": "execute_result"
    }
   ],
   "source": [
    "b = np.array([[1], [-1]])\n",
    "b"
   ]
  },
  {
   "cell_type": "code",
   "execution_count": 42,
   "metadata": {},
   "outputs": [
    {
     "data": {
      "text/plain": [
       "array([[ 1],\n",
       "       [-2],\n",
       "       [ 0],\n",
       "       [ 1],\n",
       "       [ 3]])"
      ]
     },
     "execution_count": 42,
     "metadata": {},
     "output_type": "execute_result"
    }
   ],
   "source": [
    "c = np.array([1, -2, 0, 1, 3]).reshape(5,1)\n",
    "c"
   ]
  },
  {
   "cell_type": "code",
   "execution_count": 43,
   "metadata": {},
   "outputs": [
    {
     "name": "stdout",
     "output_type": "stream",
     "text": [
      ">> Problema canonizado!\n"
     ]
    }
   ],
   "source": [
    "A, b, c, w = canonical_form(A, b, c, B)"
   ]
  },
  {
   "cell_type": "code",
   "execution_count": 44,
   "metadata": {},
   "outputs": [
    {
     "data": {
      "text/plain": [
       "array([[ 1.,  1., -1.,  0.,  1.],\n",
       "       [ 0.,  2., -3.,  1.,  1.]])"
      ]
     },
     "execution_count": 44,
     "metadata": {},
     "output_type": "execute_result"
    }
   ],
   "source": [
    "A"
   ]
  },
  {
   "cell_type": "code",
   "execution_count": 45,
   "metadata": {},
   "outputs": [
    {
     "data": {
      "text/plain": [
       "array([[-2.],\n",
       "       [-3.]])"
      ]
     },
     "execution_count": 45,
     "metadata": {},
     "output_type": "execute_result"
    }
   ],
   "source": [
    "b"
   ]
  },
  {
   "cell_type": "code",
   "execution_count": 46,
   "metadata": {},
   "outputs": [
    {
     "data": {
      "text/plain": [
       "array([[ 0.],\n",
       "       [-5.],\n",
       "       [ 4.],\n",
       "       [ 0.],\n",
       "       [ 1.]])"
      ]
     },
     "execution_count": 46,
     "metadata": {},
     "output_type": "execute_result"
    }
   ],
   "source": [
    "c"
   ]
  },
  {
   "cell_type": "markdown",
   "metadata": {},
   "source": [
    "### Seção 2.5\n",
    "\n",
    "#### Exercício 2\n",
    "\n",
    "(a)"
   ]
  },
  {
   "cell_type": "code",
   "execution_count": 134,
   "metadata": {},
   "outputs": [],
   "source": [
    "A = np.array([[2,5,1,0,3,1],\n",
    "             [0,2,2,-4,2,-4],\n",
    "             [3,5,1,2,6,3]])"
   ]
  },
  {
   "cell_type": "code",
   "execution_count": 135,
   "metadata": {},
   "outputs": [],
   "source": [
    "b = np.array([9/4,0,4]).reshape(3,1)"
   ]
  },
  {
   "cell_type": "code",
   "execution_count": 136,
   "metadata": {},
   "outputs": [],
   "source": [
    "c = np.array([2,-4,1,4,8,4]).reshape(6,1)"
   ]
  },
  {
   "cell_type": "code",
   "execution_count": 137,
   "metadata": {},
   "outputs": [],
   "source": [
    "B = np.array([0,2,3])"
   ]
  },
  {
   "cell_type": "code",
   "execution_count": 138,
   "metadata": {},
   "outputs": [
    {
     "name": "stdout",
     "output_type": "stream",
     "text": [
      "[[4.75]]\n",
      ">> Problema canonizado!\n"
     ]
    }
   ],
   "source": [
    "A_0, b_0, c_0, w_0 = canonical_form(A, b, c, B)"
   ]
  },
  {
   "cell_type": "code",
   "execution_count": 139,
   "metadata": {},
   "outputs": [
    {
     "data": {
      "text/plain": [
       "array([[ 1.00000000e+00,  4.00000000e+00,  0.00000000e+00,\n",
       "         0.00000000e+00, -1.00000000e+00,  1.00000000e+00],\n",
       "       [-4.44089210e-16, -3.00000000e+00,  1.00000000e+00,\n",
       "         0.00000000e+00,  5.00000000e+00, -1.00000000e+00],\n",
       "       [-2.22044605e-16, -2.00000000e+00,  0.00000000e+00,\n",
       "         1.00000000e+00,  2.00000000e+00,  5.00000000e-01]])"
      ]
     },
     "execution_count": 139,
     "metadata": {},
     "output_type": "execute_result"
    }
   ],
   "source": [
    "A_0"
   ]
  },
  {
   "cell_type": "code",
   "execution_count": 140,
   "metadata": {},
   "outputs": [
    {
     "data": {
      "text/plain": [
       "array([[0.5  ],\n",
       "       [1.25 ],\n",
       "       [0.625]])"
      ]
     },
     "execution_count": 140,
     "metadata": {},
     "output_type": "execute_result"
    }
   ],
   "source": [
    "b_0"
   ]
  },
  {
   "cell_type": "code",
   "execution_count": 141,
   "metadata": {},
   "outputs": [
    {
     "data": {
      "text/plain": [
       "array([[ 0.],\n",
       "       [-1.],\n",
       "       [ 0.],\n",
       "       [ 0.],\n",
       "       [-3.],\n",
       "       [ 1.]])"
      ]
     },
     "execution_count": 141,
     "metadata": {},
     "output_type": "execute_result"
    }
   ],
   "source": [
    "c_0"
   ]
  },
  {
   "cell_type": "code",
   "execution_count": 142,
   "metadata": {},
   "outputs": [
    {
     "data": {
      "text/plain": [
       "array([[4.75]])"
      ]
     },
     "execution_count": 142,
     "metadata": {},
     "output_type": "execute_result"
    }
   ],
   "source": [
    "w_0"
   ]
  },
  {
   "cell_type": "markdown",
   "metadata": {},
   "source": [
    "Passo a passo:"
   ]
  },
  {
   "cell_type": "code",
   "execution_count": 130,
   "metadata": {},
   "outputs": [
    {
     "data": {
      "text/plain": [
       "array([[ 2.  , -0.5 , -1.  ],\n",
       "       [-3.  ,  1.  ,  2.  ],\n",
       "       [-1.5 ,  0.25,  1.  ]])"
      ]
     },
     "execution_count": 130,
     "metadata": {},
     "output_type": "execute_result"
    }
   ],
   "source": [
    "A_Binv = np.linalg.inv(A[:, B])\n",
    "A_Binv"
   ]
  },
  {
   "cell_type": "code",
   "execution_count": 131,
   "metadata": {},
   "outputs": [
    {
     "data": {
      "text/plain": [
       "array([[-5.],\n",
       "       [ 1.],\n",
       "       [ 4.]])"
      ]
     },
     "execution_count": 131,
     "metadata": {},
     "output_type": "execute_result"
    }
   ],
   "source": [
    "y = A_Binv.T.dot(c[B])\n",
    "y"
   ]
  },
  {
   "cell_type": "code",
   "execution_count": 132,
   "metadata": {},
   "outputs": [
    {
     "data": {
      "text/plain": [
       "array([[4.75]])"
      ]
     },
     "execution_count": 132,
     "metadata": {},
     "output_type": "execute_result"
    }
   ],
   "source": [
    "np.dot(y.T, b)"
   ]
  },
  {
   "cell_type": "code",
   "execution_count": 114,
   "metadata": {},
   "outputs": [
    {
     "data": {
      "text/plain": [
       "array([[ 0.],\n",
       "       [-1.],\n",
       "       [ 0.],\n",
       "       [ 0.],\n",
       "       [-3.],\n",
       "       [ 1.]])"
      ]
     },
     "execution_count": 114,
     "metadata": {},
     "output_type": "execute_result"
    }
   ],
   "source": [
    "c = c.T - y.T.dot(A).ravel()\n",
    "c = c.T\n",
    "c"
   ]
  },
  {
   "cell_type": "code",
   "execution_count": 115,
   "metadata": {},
   "outputs": [
    {
     "data": {
      "text/plain": [
       "array([[5.5]])"
      ]
     },
     "execution_count": 115,
     "metadata": {},
     "output_type": "execute_result"
    }
   ],
   "source": [
    "w = w + np.dot(y.T, b)\n",
    "w"
   ]
  },
  {
   "cell_type": "code",
   "execution_count": 116,
   "metadata": {},
   "outputs": [
    {
     "data": {
      "text/plain": [
       "array([[ 1. ,  4. ,  0. ,  0. , -1. ,  1. ],\n",
       "       [-0. , -3. ,  1. ,  0. ,  5. , -1. ],\n",
       "       [-0. , -2. ,  0. ,  1. ,  2. ,  0.5]])"
      ]
     },
     "execution_count": 116,
     "metadata": {},
     "output_type": "execute_result"
    }
   ],
   "source": [
    "A = A_Binv.dot(A)\n",
    "A.round(2)"
   ]
  },
  {
   "cell_type": "code",
   "execution_count": 117,
   "metadata": {},
   "outputs": [
    {
     "data": {
      "text/plain": [
       "array([[0.5  ],\n",
       "       [1.25 ],\n",
       "       [0.625]])"
      ]
     },
     "execution_count": 117,
     "metadata": {},
     "output_type": "execute_result"
    }
   ],
   "source": [
    "b = A_Binv.dot(b) \n",
    "b"
   ]
  },
  {
   "cell_type": "markdown",
   "metadata": {},
   "source": [
    "(b)"
   ]
  },
  {
   "cell_type": "code",
   "execution_count": 96,
   "metadata": {},
   "outputs": [],
   "source": [
    "B_1 = np.array([2,3,5])"
   ]
  },
  {
   "cell_type": "code",
   "execution_count": 145,
   "metadata": {},
   "outputs": [
    {
     "name": "stdout",
     "output_type": "stream",
     "text": [
      "[[0.5]]\n",
      ">> Problema canonizado!\n"
     ]
    }
   ],
   "source": [
    "A_1, b_1, c_1, w_1 = canonical_form(A_0, b_0, c_0, B_1, w_0)"
   ]
  },
  {
   "cell_type": "code",
   "execution_count": 146,
   "metadata": {},
   "outputs": [
    {
     "data": {
      "text/plain": [
       "array([[ 1. ,  1. ,  1. ,  0. ,  4. ,  0. ],\n",
       "       [-0.5, -4. ,  0. ,  1. ,  2.5,  0. ],\n",
       "       [ 1. ,  4. ,  0. ,  0. , -1. ,  1. ]])"
      ]
     },
     "execution_count": 146,
     "metadata": {},
     "output_type": "execute_result"
    }
   ],
   "source": [
    "A_1"
   ]
  },
  {
   "cell_type": "code",
   "execution_count": 147,
   "metadata": {},
   "outputs": [
    {
     "data": {
      "text/plain": [
       "array([[1.75 ],\n",
       "       [0.375],\n",
       "       [0.5  ]])"
      ]
     },
     "execution_count": 147,
     "metadata": {},
     "output_type": "execute_result"
    }
   ],
   "source": [
    "b_1"
   ]
  },
  {
   "cell_type": "code",
   "execution_count": 148,
   "metadata": {},
   "outputs": [
    {
     "data": {
      "text/plain": [
       "array([[-1.],\n",
       "       [-5.],\n",
       "       [ 0.],\n",
       "       [ 0.],\n",
       "       [-2.],\n",
       "       [ 0.]])"
      ]
     },
     "execution_count": 148,
     "metadata": {},
     "output_type": "execute_result"
    }
   ],
   "source": [
    "c_1"
   ]
  },
  {
   "cell_type": "code",
   "execution_count": 149,
   "metadata": {},
   "outputs": [
    {
     "data": {
      "text/plain": [
       "array([[5.25]])"
      ]
     },
     "execution_count": 149,
     "metadata": {},
     "output_type": "execute_result"
    }
   ],
   "source": [
    "w_1"
   ]
  },
  {
   "cell_type": "markdown",
   "metadata": {},
   "source": [
    "#### Exercício 3"
   ]
  },
  {
   "cell_type": "code",
   "execution_count": 150,
   "metadata": {},
   "outputs": [],
   "source": [
    "A = np.array([[-2,1,1,1,0,0],\n",
    "              [1,-1,0,0,1,0],\n",
    "              [2,-3,-1,0,0,1]])"
   ]
  },
  {
   "cell_type": "code",
   "execution_count": 151,
   "metadata": {},
   "outputs": [],
   "source": [
    "b = np.array([1,2,6]).reshape(3,1)\n",
    "c = np.array([2,1,-1,0,0,0]).reshape(6,1)"
   ]
  },
  {
   "cell_type": "code",
   "execution_count": 157,
   "metadata": {},
   "outputs": [],
   "source": [
    "import sys\n",
    "import os\n",
    "sys.path.insert(0, os.path.dirname(os.getcwd()))"
   ]
  },
  {
   "cell_type": "code",
   "execution_count": 159,
   "metadata": {},
   "outputs": [],
   "source": [
    "from two_phase import simplex_two_phase"
   ]
  },
  {
   "cell_type": "code",
   "execution_count": 163,
   "metadata": {},
   "outputs": [],
   "source": [
    "B = np.array([3,4,5])\n",
    "S = simplex_two_phase.Simplex(A, c, b, B)"
   ]
  },
  {
   "cell_type": "code",
   "execution_count": 164,
   "metadata": {},
   "outputs": [
    {
     "name": "stdout",
     "output_type": "stream",
     "text": [
      "\n",
      "\n",
      "FASE II:\n",
      "\n",
      ">>> Iteração 0:\n",
      "\n",
      "1. Reescrevendo o PL na forma canonica para a base B...\n",
      "\n",
      "A: \n",
      " [[-2.  1.  1.  1.  0.  0.]\n",
      " [ 1. -1.  0.  0.  1.  0.]\n",
      " [ 2. -3. -1.  0.  0.  1.]]\n",
      "b: \n",
      " [[1.]\n",
      " [2.]\n",
      " [6.]]\n",
      "c: \n",
      " [[ 2.]\n",
      " [ 1.]\n",
      " [-1.]\n",
      " [ 0.]\n",
      " [ 0.]\n",
      " [ 0.]]\n",
      "w: \n",
      " [[0.]]\n",
      ">> Problema canonizado! x:  [0. 0. 0. 1. 2. 6.]\n",
      "\n",
      "2. Teste de otimalidade (c_N <= 0):\n",
      "Não passou no teste...\n",
      "\n",
      ">> c_N: \n",
      "[[ 2.]\n",
      " [ 1.]\n",
      " [-1.]]\n",
      "\n",
      "3. Seleciona k em N tal que c[k] > 0...\n",
      ">> k: 0\n",
      "\n",
      "4. Teste de unboundness (A[:,k] <= 0):\n",
      "Não passou no teste...\n",
      "\n",
      ">> A[:,k]: \n",
      "[-2.  1.  2.]\n",
      "\n",
      "5. Passo Simplex...\n",
      "t: [2. 3.]\n",
      "r: 0\n",
      ">> x: \n",
      "[[2.]\n",
      " [0.]\n",
      " [0.]\n",
      " [5.]\n",
      " [0.]\n",
      " [2.]]\n",
      "\n",
      "6. Atualizando a base...\n",
      "[3 4 5]\n",
      "Adicionando o elemento k (k = 0):\n",
      "[3 4 5 0]\n",
      "Removendo o r-ésimo elemento (r = 0):\n",
      "[4 5 0]\n",
      ">> B: \n",
      "[4 5 0]\n",
      "\n",
      ">>> Iteração 1:\n",
      "\n",
      "1. Reescrevendo o PL na forma canonica para a base B...\n",
      "\n",
      "A: \n",
      " [[ 0.  -0.5  0.5  0.5  1.   0. ]\n",
      " [ 0.  -2.   0.   1.   0.   1. ]\n",
      " [ 1.  -0.5 -0.5 -0.5  0.   0. ]]\n",
      "b: \n",
      " [[ 2.5]\n",
      " [ 7. ]\n",
      " [-0.5]]\n",
      "c: \n",
      " [[0.]\n",
      " [2.]\n",
      " [0.]\n",
      " [1.]\n",
      " [0.]\n",
      " [0.]]\n",
      "w: \n",
      " [[-1.]]\n",
      ">> Problema canonizado! x:  [-0.5  0.   0.   0.   2.5  7. ]\n",
      "\n",
      "2. Teste de otimalidade (c_N <= 0):\n",
      "Não passou no teste...\n",
      "\n",
      ">> c_N: \n",
      "[[2.]\n",
      " [0.]\n",
      " [1.]]\n",
      "\n",
      "3. Seleciona k em N tal que c[k] > 0...\n",
      ">> k: 1\n",
      "\n",
      "4. Teste de unboundness (A[:,k] <= 0):\n"
     ]
    }
   ],
   "source": [
    "S.fase_2()"
   ]
  },
  {
   "cell_type": "markdown",
   "metadata": {},
   "source": [
    "#### Exercício 6\n",
    "\n",
    "Adicionamos 2 variáveis $x_5, x_6$ para substituirmos o $\\geq \\rightarrow =$"
   ]
  },
  {
   "cell_type": "code",
   "execution_count": 289,
   "metadata": {},
   "outputs": [],
   "source": [
    "c = np.array([1,2,3,2,0,0]).reshape(6,1)\n",
    "A = np.array([[1,2,2,1,1,0],\n",
    "             [0,1,1,2,0,1]])\n",
    "b = np.array([6,10]).reshape(2,1)"
   ]
  },
  {
   "cell_type": "markdown",
   "metadata": {},
   "source": [
    "Passando o problema para a forma padrão, identificamos a base $B=\\{5,6\\}$"
   ]
  },
  {
   "cell_type": "code",
   "execution_count": 290,
   "metadata": {},
   "outputs": [],
   "source": [
    "B = np.array([4,5])"
   ]
  },
  {
   "cell_type": "code",
   "execution_count": 291,
   "metadata": {},
   "outputs": [
    {
     "name": "stdout",
     "output_type": "stream",
     "text": [
      "The autoreload extension is already loaded. To reload it, use:\n",
      "  %reload_ext autoreload\n"
     ]
    }
   ],
   "source": [
    "%load_ext autoreload\n",
    "%autoreload 2\n",
    "from two_phase import simplex_two_phase"
   ]
  },
  {
   "cell_type": "code",
   "execution_count": 292,
   "metadata": {},
   "outputs": [],
   "source": [
    "S = simplex_two_phase.Simplex(A, c, b, B)"
   ]
  },
  {
   "cell_type": "code",
   "execution_count": 293,
   "metadata": {},
   "outputs": [
    {
     "name": "stdout",
     "output_type": "stream",
     "text": [
      "\n",
      "\n",
      "FASE II:\n",
      "\n",
      ">>> Iteração 0:\n",
      "\n",
      "1. Reescrevendo o PL na forma canonica para a base B...\n",
      "\n",
      "A: \n",
      " [[1. 2. 2. 1. 1. 0.]\n",
      " [0. 1. 1. 2. 0. 1.]]\n",
      "b: \n",
      " [[ 6.]\n",
      " [10.]]\n",
      "c: \n",
      " [[1.]\n",
      " [2.]\n",
      " [3.]\n",
      " [2.]\n",
      " [0.]\n",
      " [0.]]\n",
      "w: \n",
      " [[0.]]\n",
      ">> Problema canonizado! x:  [ 0.  0.  0.  0.  6. 10.]\n",
      "\n",
      "2. Teste de otimalidade (c_N <= 0):\n",
      "Não passou no teste...\n",
      "\n",
      ">> c_N: \n",
      "[[1.]\n",
      " [2.]\n",
      " [3.]\n",
      " [2.]]\n",
      "\n",
      "3. Seleciona k em N tal que c[k] > 0...\n",
      ">> k: 0\n",
      "\n",
      "4. Teste de unboundness (A[:,k] <= 0):\n",
      "Não passou no teste...\n",
      "\n",
      ">> A[:,k]: \n",
      "[1. 0.]\n",
      "\n",
      "5. Passo Simplex...\n",
      "t: [ 6. inf]\n",
      "r: 0\n",
      ">> x: \n",
      "[[ 6.]\n",
      " [ 0.]\n",
      " [ 0.]\n",
      " [ 0.]\n",
      " [ 0.]\n",
      " [10.]]\n",
      "\n",
      "6. Atualizando a base...\n",
      "[4 5]\n",
      "Adicionando o elemento k (k = 0):\n",
      "[4 5 0]\n",
      "Removendo o r-ésimo elemento (r = 0):\n",
      "[0 5]\n",
      ">> B: \n",
      "[0 5]\n",
      "\n",
      ">>> Iteração 1:\n",
      "\n",
      "1. Reescrevendo o PL na forma canonica para a base B...\n",
      "\n",
      "A: \n",
      " [[1. 2. 2. 1. 1. 0.]\n",
      " [0. 1. 1. 2. 0. 1.]]\n",
      "b: \n",
      " [[ 6.]\n",
      " [10.]]\n",
      "c: \n",
      " [[ 0.]\n",
      " [ 0.]\n",
      " [ 1.]\n",
      " [ 1.]\n",
      " [-1.]\n",
      " [ 0.]]\n",
      "w: \n",
      " [[6.]]\n",
      ">> Problema canonizado! x:  [ 6.  0.  0.  0.  0. 10.]\n",
      "\n",
      "2. Teste de otimalidade (c_N <= 0):\n",
      "Não passou no teste...\n",
      "\n",
      ">> c_N: \n",
      "[[ 0.]\n",
      " [ 1.]\n",
      " [ 1.]\n",
      " [-1.]]\n",
      "\n",
      "3. Seleciona k em N tal que c[k] > 0...\n",
      ">> k: 2\n",
      "\n",
      "4. Teste de unboundness (A[:,k] <= 0):\n",
      "Não passou no teste...\n",
      "\n",
      ">> A[:,k]: \n",
      "[2. 1.]\n",
      "\n",
      "5. Passo Simplex...\n",
      "t: [ 3. 10.]\n",
      "r: 0\n",
      ">> x: \n",
      "[[0.]\n",
      " [0.]\n",
      " [3.]\n",
      " [0.]\n",
      " [0.]\n",
      " [7.]]\n",
      "\n",
      "6. Atualizando a base...\n",
      "[0 5]\n",
      "Adicionando o elemento k (k = 2):\n",
      "[0 5 2]\n",
      "Removendo o r-ésimo elemento (r = 0):\n",
      "[2 5]\n",
      ">> B: \n",
      "[2 5]\n",
      "\n",
      ">>> Iteração 2:\n",
      "\n",
      "1. Reescrevendo o PL na forma canonica para a base B...\n",
      "\n",
      "A: \n",
      " [[ 0.5  1.   1.   0.5  0.5  0. ]\n",
      " [-0.5  0.   0.   1.5 -0.5  1. ]]\n",
      "b: \n",
      " [[3.]\n",
      " [7.]]\n",
      "c: \n",
      " [[-0.5]\n",
      " [-1. ]\n",
      " [ 0. ]\n",
      " [ 0.5]\n",
      " [-1.5]\n",
      " [ 0. ]]\n",
      "w: \n",
      " [[9.]]\n",
      ">> Problema canonizado! x:  [0. 0. 3. 0. 0. 7.]\n",
      "\n",
      "2. Teste de otimalidade (c_N <= 0):\n",
      "Não passou no teste...\n",
      "\n",
      ">> c_N: \n",
      "[[-0.5]\n",
      " [-1. ]\n",
      " [ 0.5]\n",
      " [-1.5]]\n",
      "\n",
      "3. Seleciona k em N tal que c[k] > 0...\n",
      ">> k: 3\n",
      "\n",
      "4. Teste de unboundness (A[:,k] <= 0):\n",
      "Não passou no teste...\n",
      "\n",
      ">> A[:,k]: \n",
      "[0.5 1.5]\n",
      "\n",
      "5. Passo Simplex...\n",
      "t: [6.         4.66666667]\n",
      "r: 1\n",
      ">> x: \n",
      "[[0.        ]\n",
      " [0.        ]\n",
      " [0.66666667]\n",
      " [4.66666667]\n",
      " [0.        ]\n",
      " [0.        ]]\n",
      "\n",
      "6. Atualizando a base...\n",
      "[2 5]\n",
      "Adicionando o elemento k (k = 3):\n",
      "[2 5 3]\n",
      "Removendo o r-ésimo elemento (r = 1):\n",
      "[2 3]\n",
      ">> B: \n",
      "[2 3]\n",
      "\n",
      ">>> Iteração 3:\n",
      "\n",
      "1. Reescrevendo o PL na forma canonica para a base B...\n",
      "\n",
      "A: \n",
      " [[ 0.67  1.    1.    0.    0.67 -0.33]\n",
      " [-0.33  0.    0.    1.   -0.33  0.67]]\n",
      "b: \n",
      " [[0.67]\n",
      " [4.67]]\n",
      "c: \n",
      " [[-0.33]\n",
      " [-1.  ]\n",
      " [ 0.  ]\n",
      " [ 0.  ]\n",
      " [-1.33]\n",
      " [-0.33]]\n",
      "w: \n",
      " [[11.33333333]]\n",
      ">> Problema canonizado! x:  [0.         0.         0.66666667 4.66666667 0.         0.        ]\n",
      "\n",
      "2. Teste de otimalidade (c_N <= 0):\n",
      ">>> Processo terminado!\n"
     ]
    },
    {
     "name": "stderr",
     "output_type": "stream",
     "text": [
      "/Users/fernandascovino/Documents/PO1/github/simplex/two_phase/simplex_two_phase.py:137: RuntimeWarning: divide by zero encountered in true_divide\n",
      "  t_set = np.array([self.b[i]/self.A[i, self.k] for i in range(rows)])\n"
     ]
    }
   ],
   "source": [
    "x = S.fase_2()"
   ]
  },
  {
   "cell_type": "code",
   "execution_count": 294,
   "metadata": {},
   "outputs": [
    {
     "data": {
      "text/plain": [
       "array([[ True],\n",
       "       [ True]])"
      ]
     },
     "execution_count": 294,
     "metadata": {},
     "output_type": "execute_result"
    }
   ],
   "source": [
    "np.dot(A, x.reshape(x.shape[0], 1)) == b"
   ]
  },
  {
   "cell_type": "code",
   "execution_count": 295,
   "metadata": {},
   "outputs": [
    {
     "data": {
      "text/plain": [
       "array([11.33333333])"
      ]
     },
     "execution_count": 295,
     "metadata": {},
     "output_type": "execute_result"
    }
   ],
   "source": [
    "np.dot(c.T, x)"
   ]
  },
  {
   "cell_type": "code",
   "execution_count": null,
   "metadata": {},
   "outputs": [],
   "source": []
  }
 ],
 "metadata": {
  "kernelspec": {
   "display_name": "Python 3",
   "language": "python",
   "name": "python3"
  },
  "language_info": {
   "codemirror_mode": {
    "name": "ipython",
    "version": 3
   },
   "file_extension": ".py",
   "mimetype": "text/x-python",
   "name": "python",
   "nbconvert_exporter": "python",
   "pygments_lexer": "ipython3",
   "version": "3.7.2"
  },
  "toc": {
   "base_numbering": 1,
   "nav_menu": {
    "height": "177px",
    "width": "347px"
   },
   "number_sections": true,
   "sideBar": true,
   "skip_h1_title": true,
   "title_cell": "Table of Contents",
   "title_sidebar": "Contents",
   "toc_cell": true,
   "toc_position": {},
   "toc_section_display": true,
   "toc_window_display": false
  }
 },
 "nbformat": 4,
 "nbformat_minor": 2
}
