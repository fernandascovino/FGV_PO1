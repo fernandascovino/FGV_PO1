{
 "cells": [
  {
   "cell_type": "markdown",
   "metadata": {
    "toc": true
   },
   "source": [
    "<h1>Table of Contents<span class=\"tocSkip\"></span></h1>\n",
    "<div class=\"toc\"><ul class=\"toc-item\"><li><span><a href=\"#Seção-2.1\" data-toc-modified-id=\"Seção-2.1-1\"><span class=\"toc-item-num\">1&nbsp;&nbsp;</span>Seção 2.1</a></span><ul class=\"toc-item\"><li><span><a href=\"#Exercício-1\" data-toc-modified-id=\"Exercício-1-1.1\"><span class=\"toc-item-num\">1.1&nbsp;&nbsp;</span>Exercício 1</a></span></li></ul></li><li><span><a href=\"#Seção-2.2-&amp;-2.3\" data-toc-modified-id=\"Seção-2.2-&amp;-2.3-2\"><span class=\"toc-item-num\">2&nbsp;&nbsp;</span>Seção 2.2 &amp; 2.3</a></span></li><li><span><a href=\"#Seção-2.4\" data-toc-modified-id=\"Seção-2.4-3\"><span class=\"toc-item-num\">3&nbsp;&nbsp;</span>Seção 2.4</a></span><ul class=\"toc-item\"><li><span><a href=\"#Exercício-2\" data-toc-modified-id=\"Exercício-2-3.1\"><span class=\"toc-item-num\">3.1&nbsp;&nbsp;</span>Exercício 2</a></span></li></ul></li><li><span><a href=\"#Seção-2.5\" data-toc-modified-id=\"Seção-2.5-4\"><span class=\"toc-item-num\">4&nbsp;&nbsp;</span>Seção 2.5</a></span><ul class=\"toc-item\"><li><span><a href=\"#Exercício-1\" data-toc-modified-id=\"Exercício-1-4.1\"><span class=\"toc-item-num\">4.1&nbsp;&nbsp;</span>Exercício 1</a></span></li></ul></li></ul></div>"
   ]
  },
  {
   "cell_type": "markdown",
   "metadata": {},
   "source": [
    "# Lista 2\n",
    "----\n",
    "\n",
    "Exercícios resolvidos dos capítulos 2 e 3 do livro [A Gentle Introduction to Optimization](https://www.amazon.com/Gentle-Introduction-Optimization-B-Guenin-ebook/dp/B00KL8CHHU), listados abaixo.\n",
    "\n",
    "- Sec.2.1 (certificados): ~~1a, 1b, 1c, 1d, 2i, 2ii~~\n",
    "\n",
    "- Sec 2.2 (forma padrão): ~~1a, 1b~~\n",
    "\n",
    "- Sec 2.3 (iteração Simplex): ~~1a, 1b~~\n",
    "\n",
    "- Sec 2.4 (Bases e Forma canônica): ~~1a, 1b, 1c, 1d, 2a, 2b, 3, 4,a, 4b, 4c, 4d, 5a, 5b, 5c, 5d, 5e~~\n",
    "\n",
    "- Sec 2.5 (Simplex): 1a, 1b, 2a, 2b, 3, 4, 5, 6a, 6b, 6c\n",
    "\n",
    "- Sec 2.6 (Simplex 2 fases): 1a, 1b, 1c, 1d, 1e"
   ]
  },
  {
   "cell_type": "code",
   "execution_count": 1,
   "metadata": {},
   "outputs": [],
   "source": [
    "import numpy as np"
   ]
  },
  {
   "cell_type": "markdown",
   "metadata": {},
   "source": [
    "### Seção 2.1\n",
    "\n",
    "#### Exercício 1\n",
    "(a) \n",
    "\n",
    "Provar que o problema é infactível"
   ]
  },
  {
   "cell_type": "code",
   "execution_count": 2,
   "metadata": {},
   "outputs": [],
   "source": [
    "A = np.array([[3, 5, 6], [1, 3, -4], [-1, 1, -1]])"
   ]
  },
  {
   "cell_type": "code",
   "execution_count": 3,
   "metadata": {},
   "outputs": [],
   "source": [
    "b = np.array([4, 2, -1]).reshape(3, 1)"
   ]
  },
  {
   "cell_type": "markdown",
   "metadata": {},
   "source": [
    "Queremos $y$ tal que:\n",
    "\n",
    "$\\text{(i) } y^{T} A \\geq \\vec{0}^{T},$\n",
    "\n",
    "$\\text{(ii) } y^{T} b < 0$"
   ]
  },
  {
   "cell_type": "code",
   "execution_count": 4,
   "metadata": {},
   "outputs": [],
   "source": [
    "y = np.array([1, -2, 1])"
   ]
  },
  {
   "cell_type": "code",
   "execution_count": 5,
   "metadata": {},
   "outputs": [
    {
     "data": {
      "text/plain": [
       "array([ 0,  0, 13])"
      ]
     },
     "execution_count": 5,
     "metadata": {},
     "output_type": "execute_result"
    }
   ],
   "source": [
    "np.dot(y.T, A) # (i)"
   ]
  },
  {
   "cell_type": "code",
   "execution_count": 6,
   "metadata": {},
   "outputs": [
    {
     "data": {
      "text/plain": [
       "array([-1])"
      ]
     },
     "execution_count": 6,
     "metadata": {},
     "output_type": "execute_result"
    }
   ],
   "source": [
    "np.dot(y.T, b) # (ii)"
   ]
  },
  {
   "cell_type": "markdown",
   "metadata": {},
   "source": [
    "(b) \n",
    "\n",
    "Provar que o problema é ilimitado"
   ]
  },
  {
   "cell_type": "code",
   "execution_count": 7,
   "metadata": {},
   "outputs": [],
   "source": [
    "A = np.array([[1, 0, 1, -1], \n",
    "              [0, 1, 2, -1]])"
   ]
  },
  {
   "cell_type": "code",
   "execution_count": 8,
   "metadata": {},
   "outputs": [],
   "source": [
    "b = np.array([1, 2]).reshape(2, 1)"
   ]
  },
  {
   "cell_type": "code",
   "execution_count": 9,
   "metadata": {},
   "outputs": [],
   "source": [
    "c = np.array([0, 0, -1, 1]).reshape(4, 1)"
   ]
  },
  {
   "cell_type": "markdown",
   "metadata": {},
   "source": [
    "Queremos $x = x' + dt : Ax = b, \\forall t$ tal que:\n",
    "\n",
    "$\\text{(i) } d > 0$\n",
    "\n",
    "$\\text{(ii) }c^T d \\geq 0 \\rightarrow d_3 < d_4$\n",
    "\n",
    "$\\text{(iii) }Ad = 0 \\rightarrow d_1 + 2 d_3 = 0$"
   ]
  },
  {
   "cell_type": "code",
   "execution_count": 10,
   "metadata": {},
   "outputs": [
    {
     "data": {
      "text/plain": [
       "array([[2],\n",
       "       [1],\n",
       "       [1],\n",
       "       [3]])"
      ]
     },
     "execution_count": 10,
     "metadata": {},
     "output_type": "execute_result"
    }
   ],
   "source": [
    "d = np.array([2, 1, 1, 3]).reshape(4, 1) # (i) d > 0\n",
    "d"
   ]
  },
  {
   "cell_type": "code",
   "execution_count": 11,
   "metadata": {},
   "outputs": [
    {
     "data": {
      "text/plain": [
       "array([[2]])"
      ]
     },
     "execution_count": 11,
     "metadata": {},
     "output_type": "execute_result"
    }
   ],
   "source": [
    "np.dot(c.T, d) # (ii) c'd > 0"
   ]
  },
  {
   "cell_type": "code",
   "execution_count": 12,
   "metadata": {},
   "outputs": [
    {
     "data": {
      "text/plain": [
       "array([[0],\n",
       "       [0]])"
      ]
     },
     "execution_count": 12,
     "metadata": {},
     "output_type": "execute_result"
    }
   ],
   "source": [
    "np.dot(A, d) # (iii) Ad = 0"
   ]
  },
  {
   "cell_type": "markdown",
   "metadata": {},
   "source": [
    "Logo, $x = x' + dt$ é:"
   ]
  },
  {
   "cell_type": "code",
   "execution_count": 13,
   "metadata": {},
   "outputs": [
    {
     "data": {
      "text/plain": [
       "array([[0],\n",
       "       [0],\n",
       "       [1],\n",
       "       [0]])"
      ]
     },
     "execution_count": 13,
     "metadata": {},
     "output_type": "execute_result"
    }
   ],
   "source": [
    "x_ = np.array([0, 0, 1, 0]).reshape(4, 1)\n",
    "x_"
   ]
  },
  {
   "cell_type": "code",
   "execution_count": 14,
   "metadata": {},
   "outputs": [
    {
     "data": {
      "text/plain": [
       "array([[ True],\n",
       "       [ True]])"
      ]
     },
     "execution_count": 14,
     "metadata": {},
     "output_type": "execute_result"
    }
   ],
   "source": [
    "np.dot(A, x_) == b"
   ]
  },
  {
   "cell_type": "markdown",
   "metadata": {},
   "source": [
    "Logo, temos $x = [0, 0, 1, 0] + [2, 1, 1, 3]t$. Para a letra (d), queremos $c^T x = 5000$, logo $t = \\frac{5001}{2}$:"
   ]
  },
  {
   "cell_type": "code",
   "execution_count": 15,
   "metadata": {},
   "outputs": [
    {
     "data": {
      "text/plain": [
       "array([[5001. ],\n",
       "       [2500.5],\n",
       "       [2501.5],\n",
       "       [7501.5]])"
      ]
     },
     "execution_count": 15,
     "metadata": {},
     "output_type": "execute_result"
    }
   ],
   "source": [
    "x = x_ + (5001/2)*d\n",
    "x"
   ]
  },
  {
   "cell_type": "code",
   "execution_count": 16,
   "metadata": {},
   "outputs": [
    {
     "data": {
      "text/plain": [
       "array([[5000.]])"
      ]
     },
     "execution_count": 16,
     "metadata": {},
     "output_type": "execute_result"
    }
   ],
   "source": [
    "np.dot(c.T, x)"
   ]
  },
  {
   "cell_type": "code",
   "execution_count": 17,
   "metadata": {},
   "outputs": [
    {
     "data": {
      "text/plain": [
       "array([[ True],\n",
       "       [ True]])"
      ]
     },
     "execution_count": 17,
     "metadata": {},
     "output_type": "execute_result"
    }
   ],
   "source": [
    "np.dot(A, x) == b"
   ]
  },
  {
   "cell_type": "markdown",
   "metadata": {},
   "source": [
    "(c)"
   ]
  },
  {
   "cell_type": "code",
   "execution_count": 18,
   "metadata": {},
   "outputs": [],
   "source": [
    "A = np.array([[4, 2, 1, -6, -1], [-1, 1, -4, 1, 3], [3, -6, 5, 3, -5]])"
   ]
  },
  {
   "cell_type": "code",
   "execution_count": 19,
   "metadata": {},
   "outputs": [],
   "source": [
    "b = np.array([11, -2, -10]).reshape(3, 1)"
   ]
  },
  {
   "cell_type": "code",
   "execution_count": 20,
   "metadata": {},
   "outputs": [],
   "source": [
    "c = np.array([1, -2, 1, 1, 1]).reshape(5, 1)"
   ]
  },
  {
   "cell_type": "code",
   "execution_count": 21,
   "metadata": {},
   "outputs": [],
   "source": [
    "d = np.array([1, 1, 1, 1, 1]).reshape(5, 1)"
   ]
  },
  {
   "cell_type": "code",
   "execution_count": 22,
   "metadata": {},
   "outputs": [
    {
     "data": {
      "text/plain": [
       "array([[2]])"
      ]
     },
     "execution_count": 22,
     "metadata": {},
     "output_type": "execute_result"
    }
   ],
   "source": [
    "np.dot(c.T, d) # (ii) c'd > 0"
   ]
  },
  {
   "cell_type": "code",
   "execution_count": 23,
   "metadata": {},
   "outputs": [
    {
     "data": {
      "text/plain": [
       "array([[0],\n",
       "       [0],\n",
       "       [0]])"
      ]
     },
     "execution_count": 23,
     "metadata": {},
     "output_type": "execute_result"
    }
   ],
   "source": [
    "np.dot(A, d) # (iii) Ad = 0"
   ]
  },
  {
   "cell_type": "code",
   "execution_count": 24,
   "metadata": {},
   "outputs": [],
   "source": [
    "x_ = np.array([1, 3, 1, 0, 0]).reshape(5, 1)"
   ]
  },
  {
   "cell_type": "code",
   "execution_count": 25,
   "metadata": {},
   "outputs": [
    {
     "data": {
      "text/plain": [
       "array([[ 11],\n",
       "       [ -2],\n",
       "       [-10]])"
      ]
     },
     "execution_count": 25,
     "metadata": {},
     "output_type": "execute_result"
    }
   ],
   "source": [
    "np.dot(A, x_)"
   ]
  },
  {
   "cell_type": "markdown",
   "metadata": {},
   "source": [
    "Logo, temos $x = [1, 3, 1, 0, 0] + [1, 1, 1, 1, 1]t$. Para a letra (d), queremos $c^T x = 5000$, logo $t = 2502$:"
   ]
  },
  {
   "cell_type": "code",
   "execution_count": 26,
   "metadata": {},
   "outputs": [
    {
     "data": {
      "text/plain": [
       "array([[2503],\n",
       "       [2505],\n",
       "       [2503],\n",
       "       [2502],\n",
       "       [2502]])"
      ]
     },
     "execution_count": 26,
     "metadata": {},
     "output_type": "execute_result"
    }
   ],
   "source": [
    "x = x_ + 2502*d\n",
    "x"
   ]
  },
  {
   "cell_type": "code",
   "execution_count": 27,
   "metadata": {},
   "outputs": [
    {
     "data": {
      "text/plain": [
       "array([[5000]])"
      ]
     },
     "execution_count": 27,
     "metadata": {},
     "output_type": "execute_result"
    }
   ],
   "source": [
    "np.dot(c.T, x)"
   ]
  },
  {
   "cell_type": "code",
   "execution_count": 28,
   "metadata": {},
   "outputs": [
    {
     "data": {
      "text/plain": [
       "array([[ True],\n",
       "       [ True],\n",
       "       [ True]])"
      ]
     },
     "execution_count": 28,
     "metadata": {},
     "output_type": "execute_result"
    }
   ],
   "source": [
    "np.dot(A, x) == b"
   ]
  },
  {
   "cell_type": "markdown",
   "metadata": {},
   "source": [
    "### Seção 2.2 & 2.3\n",
    "No papel"
   ]
  },
  {
   "cell_type": "markdown",
   "metadata": {},
   "source": [
    "### Seção 2.4\n",
    "\n",
    "#### Exercício 2\n",
    "\n",
    "(a)"
   ]
  },
  {
   "cell_type": "code",
   "execution_count": 29,
   "metadata": {},
   "outputs": [
    {
     "data": {
      "text/plain": [
       "array([[ 1, -1,  2, -1,  0],\n",
       "       [ 2,  0,  1, -1,  1]])"
      ]
     },
     "execution_count": 29,
     "metadata": {},
     "output_type": "execute_result"
    }
   ],
   "source": [
    "A = np.array([[1, -1, 2, -1, 0], [2, 0, 1, -1, 1]])\n",
    "A"
   ]
  },
  {
   "cell_type": "code",
   "execution_count": 30,
   "metadata": {},
   "outputs": [
    {
     "data": {
      "text/plain": [
       "array([[ 1],\n",
       "       [-1]])"
      ]
     },
     "execution_count": 30,
     "metadata": {},
     "output_type": "execute_result"
    }
   ],
   "source": [
    "b = np.array([[1], [-1]])\n",
    "b"
   ]
  },
  {
   "cell_type": "code",
   "execution_count": 31,
   "metadata": {},
   "outputs": [
    {
     "data": {
      "text/plain": [
       "array([[ 1],\n",
       "       [-2],\n",
       "       [ 0],\n",
       "       [ 1],\n",
       "       [ 3]])"
      ]
     },
     "execution_count": 31,
     "metadata": {},
     "output_type": "execute_result"
    }
   ],
   "source": [
    "c = np.array([1, -2, 0, 1, 3]).reshape(5,1)\n",
    "c"
   ]
  },
  {
   "cell_type": "code",
   "execution_count": 32,
   "metadata": {},
   "outputs": [],
   "source": [
    "B = [0, 3] # indexação começa em 0! B = [1, 4]"
   ]
  },
  {
   "cell_type": "code",
   "execution_count": 33,
   "metadata": {},
   "outputs": [],
   "source": [
    "def canonical_form(A, b, c, B, w=0):\n",
    "    \"\"\"\n",
    "    Passa o PL para a forma canônica: (i) A_B deve ser identidade, (ii) c_B = 0\n",
    "    \n",
    "    Return\n",
    "    ------\n",
    "    A : np.array\n",
    "    b : np.array\n",
    "    c : np.array\n",
    "    w : int\n",
    "    \"\"\"\n",
    "\n",
    "    if not np.all(c[B] != 0) or not np.all(A[:, B] != np.identity(len(B))):\n",
    "\n",
    "        A_Binv = np.linalg.inv(A[:, B])\n",
    "        y = A_Binv.T.dot(c[B])\n",
    "        c = c.T - y.T.dot(A).ravel()\n",
    "        c = c.T\n",
    "        w = w + np.dot(y.T, b)\n",
    "\n",
    "        A = A_Binv.dot(A)\n",
    "        b = A_Binv.dot(b)\n",
    "        print(\">> Problema canonizado!\")\n",
    "        return A, b, c, w\n",
    "\n",
    "    else:\n",
    "        print(\">> Problema ja na forma canonica!\")"
   ]
  },
  {
   "cell_type": "code",
   "execution_count": 34,
   "metadata": {},
   "outputs": [
    {
     "name": "stdout",
     "output_type": "stream",
     "text": [
      ">> Problema canonizado!\n"
     ]
    }
   ],
   "source": [
    "A, b, c, w = canonical_form(A, b, c, B)"
   ]
  },
  {
   "cell_type": "code",
   "execution_count": 35,
   "metadata": {},
   "outputs": [
    {
     "data": {
      "text/plain": [
       "array([[ 1.,  1., -1.,  0.,  1.],\n",
       "       [ 0.,  2., -3.,  1.,  1.]])"
      ]
     },
     "execution_count": 35,
     "metadata": {},
     "output_type": "execute_result"
    }
   ],
   "source": [
    "A"
   ]
  },
  {
   "cell_type": "code",
   "execution_count": 36,
   "metadata": {},
   "outputs": [
    {
     "data": {
      "text/plain": [
       "array([[-2.],\n",
       "       [-3.]])"
      ]
     },
     "execution_count": 36,
     "metadata": {},
     "output_type": "execute_result"
    }
   ],
   "source": [
    "b"
   ]
  },
  {
   "cell_type": "code",
   "execution_count": 37,
   "metadata": {},
   "outputs": [
    {
     "data": {
      "text/plain": [
       "array([[ 0.],\n",
       "       [-5.],\n",
       "       [ 4.],\n",
       "       [ 0.],\n",
       "       [ 1.]])"
      ]
     },
     "execution_count": 37,
     "metadata": {},
     "output_type": "execute_result"
    }
   ],
   "source": [
    "c"
   ]
  },
  {
   "cell_type": "markdown",
   "metadata": {},
   "source": [
    "(b)"
   ]
  },
  {
   "cell_type": "code",
   "execution_count": 38,
   "metadata": {},
   "outputs": [
    {
     "data": {
      "text/plain": [
       "array([[ 1, -1,  2, -1,  0],\n",
       "       [ 2,  0,  1, -1,  1]])"
      ]
     },
     "execution_count": 38,
     "metadata": {},
     "output_type": "execute_result"
    }
   ],
   "source": [
    "A = np.array([[1, -1, 2, -1, 0], [2, 0, 1, -1, 1]])\n",
    "A"
   ]
  },
  {
   "cell_type": "code",
   "execution_count": 39,
   "metadata": {},
   "outputs": [
    {
     "data": {
      "text/plain": [
       "array([[ 1],\n",
       "       [-1]])"
      ]
     },
     "execution_count": 39,
     "metadata": {},
     "output_type": "execute_result"
    }
   ],
   "source": [
    "b = np.array([[1], [-1]])\n",
    "b"
   ]
  },
  {
   "cell_type": "code",
   "execution_count": 40,
   "metadata": {},
   "outputs": [
    {
     "data": {
      "text/plain": [
       "array([[ 1],\n",
       "       [-2],\n",
       "       [ 0],\n",
       "       [ 1],\n",
       "       [ 3]])"
      ]
     },
     "execution_count": 40,
     "metadata": {},
     "output_type": "execute_result"
    }
   ],
   "source": [
    "c = np.array([1, -2, 0, 1, 3]).reshape(5,1)\n",
    "c"
   ]
  },
  {
   "cell_type": "code",
   "execution_count": 41,
   "metadata": {},
   "outputs": [
    {
     "name": "stdout",
     "output_type": "stream",
     "text": [
      ">> Problema canonizado!\n"
     ]
    }
   ],
   "source": [
    "A, b, c, w = canonical_form(A, b, c, B)"
   ]
  },
  {
   "cell_type": "code",
   "execution_count": 42,
   "metadata": {},
   "outputs": [
    {
     "data": {
      "text/plain": [
       "array([[ 1.,  1., -1.,  0.,  1.],\n",
       "       [ 0.,  2., -3.,  1.,  1.]])"
      ]
     },
     "execution_count": 42,
     "metadata": {},
     "output_type": "execute_result"
    }
   ],
   "source": [
    "A"
   ]
  },
  {
   "cell_type": "code",
   "execution_count": 43,
   "metadata": {},
   "outputs": [
    {
     "data": {
      "text/plain": [
       "array([[-2.],\n",
       "       [-3.]])"
      ]
     },
     "execution_count": 43,
     "metadata": {},
     "output_type": "execute_result"
    }
   ],
   "source": [
    "b"
   ]
  },
  {
   "cell_type": "code",
   "execution_count": 44,
   "metadata": {},
   "outputs": [
    {
     "data": {
      "text/plain": [
       "array([[ 0.],\n",
       "       [-5.],\n",
       "       [ 4.],\n",
       "       [ 0.],\n",
       "       [ 1.]])"
      ]
     },
     "execution_count": 44,
     "metadata": {},
     "output_type": "execute_result"
    }
   ],
   "source": [
    "c"
   ]
  },
  {
   "cell_type": "code",
   "execution_count": null,
   "metadata": {},
   "outputs": [],
   "source": []
  }
 ],
 "metadata": {
  "kernelspec": {
   "display_name": "Python 3",
   "language": "python",
   "name": "python3"
  },
  "language_info": {
   "codemirror_mode": {
    "name": "ipython",
    "version": 3
   },
   "file_extension": ".py",
   "mimetype": "text/x-python",
   "name": "python",
   "nbconvert_exporter": "python",
   "pygments_lexer": "ipython3",
   "version": "3.7.2"
  },
  "toc": {
   "base_numbering": 1,
   "nav_menu": {
    "height": "177px",
    "width": "347px"
   },
   "number_sections": true,
   "sideBar": true,
   "skip_h1_title": true,
   "title_cell": "Table of Contents",
   "title_sidebar": "Contents",
   "toc_cell": true,
   "toc_position": {},
   "toc_section_display": true,
   "toc_window_display": false
  }
 },
 "nbformat": 4,
 "nbformat_minor": 2
}
