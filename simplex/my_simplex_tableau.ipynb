{
 "cells": [
  {
   "cell_type": "markdown",
   "metadata": {},
   "source": [
    "### Simplex Tableau\n",
    "---\n",
    "\n",
    "Construção do algoritmo Simplex na forma Tableau:\n",
    "\n",
    "* Não precisamos dos passos dados no Simplex \"raiz\", as iterações são compostas apenas de operações matriciais\n",
    "* No Tableau, criamos uma matriz indexada pelas variábeis básicas, composta pela matriz de restrições com o vetor $b$ concatenado, e o vetor de custo com o resultado $z$ concatenado, como mostra a figura abaixo:\n",
    "\n",
    "<img src=\"files/simplex_tableau.jpg\">"
   ]
  },
  {
   "cell_type": "markdown",
   "metadata": {},
   "source": [
    "### Implementação"
   ]
  },
  {
   "cell_type": "code",
   "execution_count": 240,
   "metadata": {},
   "outputs": [],
   "source": [
    "import numpy as np"
   ]
  },
  {
   "cell_type": "code",
   "execution_count": 417,
   "metadata": {},
   "outputs": [],
   "source": [
    "def SimplexTableau(A, b, c, B, w=0, max_counter=100):\n",
    "    \n",
    "    T = np.concatenate((np.zeros(A.shape[0]).reshape(A.shape[0],1), A, b), axis=1)\n",
    "    T = np.concatenate((np.array([1] + list(-c.T[0]) + [0]).reshape(1, c.shape[0]+2), T), axis=0)\n",
    "    \n",
    "    counter = 0\n",
    "\n",
    "    while np.any(T[0,:] < 0) and (counter < max_counter):\n",
    "\n",
    "        print('>>> Iteração {}:'.format(counter))\n",
    "        j = np.where(T[0,1:-1] < 0)[0][0] # primeiro elemento em quem -c > 0 (exceto primeira e última colunas)\n",
    "        j = j+1 # pulamos a primeira coluna\n",
    "\n",
    "        razao = T[1:, -1]/T[1:, j] # divide os valores de b pela coluna (máximo de aumento da variável da coluna k)\n",
    "        razao = np.where(razao < 0, np.nan_to_num(np.inf), razao) # substitui valores negativo por +inf\n",
    "\n",
    "        i = np.argmin(razao) # obtem o índice do menor valor (menor dentre os máximos para a variável da coluna k)\n",
    "        i = i+1 # pulamos a primeira linha\n",
    "\n",
    "        T[i,:] = T[i,:]/T[i, j] # dividindo a linha pelo valor escolhido\n",
    "\n",
    "        for l in range(T.shape[0]):\n",
    "\n",
    "            if l != i:\n",
    "                m = T[l, j]/T[i,j] # fator multiplicativo para zerar o elemento\n",
    "                T[l,:] = T[l,:] - m*T[i,:]\n",
    "\n",
    "            else:\n",
    "                T[i,j] = T[i,j]\n",
    "\n",
    "        counter +=1\n",
    "        print('j: {}'.format(j))\n",
    "        print('i: {}'.format(i))\n",
    "        print('T: {}\\n'.format(T.round(2)))\n",
    "      \n",
    "    return T"
   ]
  },
  {
   "cell_type": "markdown",
   "metadata": {},
   "source": [
    "### Exemplos"
   ]
  },
  {
   "cell_type": "markdown",
   "metadata": {},
   "source": [
    "* Problema 2.5 (1)"
   ]
  },
  {
   "cell_type": "code",
   "execution_count": 385,
   "metadata": {},
   "outputs": [],
   "source": [
    "A = np.array([[1, 2, -2, 0],\n",
    "              [0, 1, 3, 1]])\n",
    "b = np.array([2,5]).reshape(2,1)\n",
    "c = np.array([0, 3, 1, 0]).reshape(4,1)\n",
    "B = [0, 3]"
   ]
  },
  {
   "cell_type": "code",
   "execution_count": 386,
   "metadata": {},
   "outputs": [
    {
     "name": "stdout",
     "output_type": "stream",
     "text": [
      ">>> Iteração 0:\n",
      "j: 2\n",
      "i: 1\n",
      "T: [[ 1.   1.5  0.  -4.   0.   3. ]\n",
      " [ 0.   0.5  1.  -1.   0.   1. ]\n",
      " [ 0.  -0.5  0.   4.   1.   4. ]]\n",
      "\n",
      ">>> Iteração 1:\n",
      "j: 3\n",
      "i: 2\n",
      "T: [[ 1.     1.     0.     0.     1.     7.   ]\n",
      " [ 0.     0.375  1.     0.     0.25   2.   ]\n",
      " [ 0.    -0.125  0.     1.     0.25   1.   ]]\n",
      "\n"
     ]
    },
    {
     "data": {
      "text/plain": [
       "array([[ 1.   ,  1.   ,  0.   ,  0.   ,  1.   ,  7.   ],\n",
       "       [ 0.   ,  0.375,  1.   ,  0.   ,  0.25 ,  2.   ],\n",
       "       [ 0.   , -0.125,  0.   ,  1.   ,  0.25 ,  1.   ]])"
      ]
     },
     "execution_count": 386,
     "metadata": {},
     "output_type": "execute_result"
    }
   ],
   "source": [
    "SimplexTableau(A, b, c, B, max_counter=20)"
   ]
  },
  {
   "cell_type": "markdown",
   "metadata": {},
   "source": [
    "Checando a solução (determinada pelas colunas $j$ binárias do *tableau*, onde $x_j$ assume o valor da última coluna):"
   ]
  },
  {
   "cell_type": "code",
   "execution_count": 387,
   "metadata": {},
   "outputs": [],
   "source": [
    "x = np.array([0, 2, 1, 0]).reshape(4, 1)"
   ]
  },
  {
   "cell_type": "code",
   "execution_count": 388,
   "metadata": {},
   "outputs": [
    {
     "data": {
      "text/plain": [
       "array([[2],\n",
       "       [5]])"
      ]
     },
     "execution_count": 388,
     "metadata": {},
     "output_type": "execute_result"
    }
   ],
   "source": [
    "np.dot(A, x)"
   ]
  },
  {
   "cell_type": "code",
   "execution_count": 389,
   "metadata": {},
   "outputs": [
    {
     "data": {
      "text/plain": [
       "array([[2],\n",
       "       [5]])"
      ]
     },
     "execution_count": 389,
     "metadata": {},
     "output_type": "execute_result"
    }
   ],
   "source": [
    "b # Ax = b!"
   ]
  },
  {
   "cell_type": "code",
   "execution_count": 390,
   "metadata": {},
   "outputs": [
    {
     "data": {
      "text/plain": [
       "array([[7]])"
      ]
     },
     "execution_count": 390,
     "metadata": {},
     "output_type": "execute_result"
    }
   ],
   "source": [
    "np.dot(c.T, x) # valor máximo de z"
   ]
  },
  {
   "cell_type": "markdown",
   "metadata": {},
   "source": [
    "* Exemplo da seção *2.3 A simplex iteration*"
   ]
  },
  {
   "cell_type": "code",
   "execution_count": 426,
   "metadata": {},
   "outputs": [],
   "source": [
    "A = np.array([[1,1,1,0,0], \n",
    "               [2,1,0,1,0], \n",
    "               [-1,1,0,0,1]])\n",
    "c = np.array([2,3,0,0,0]).reshape(5,1)\n",
    "b = np.array([6,10,4]).reshape(3,1)\n",
    "B = [2, 3, 4]"
   ]
  },
  {
   "cell_type": "code",
   "execution_count": 427,
   "metadata": {},
   "outputs": [
    {
     "name": "stdout",
     "output_type": "stream",
     "text": [
      ">>> Iteração 0:\n",
      "j: 1\n",
      "i: 2\n",
      "T: [[ 1.   0.  -2.   0.   1.   0.  10. ]\n",
      " [ 0.   0.   0.5  1.  -0.5  0.   1. ]\n",
      " [ 0.   1.   0.5  0.   0.5  0.   5. ]\n",
      " [ 0.   0.   1.5  0.   0.5  1.   9. ]]\n",
      "\n",
      ">>> Iteração 1:\n",
      "j: 2\n",
      "i: 1\n",
      "T: [[ 1.  0.  0.  4. -1.  0. 14.]\n",
      " [ 0.  0.  1.  2. -1.  0.  2.]\n",
      " [ 0.  1.  0. -1.  1.  0.  4.]\n",
      " [ 0.  0.  0. -3.  2.  1.  6.]]\n",
      "\n",
      ">>> Iteração 2:\n",
      "j: 4\n",
      "i: 3\n",
      "T: [[ 1.   0.   0.   2.5  0.   0.5 17. ]\n",
      " [ 0.   0.   1.   0.5  0.   0.5  5. ]\n",
      " [ 0.   1.   0.   0.5  0.  -0.5  1. ]\n",
      " [ 0.   0.   0.  -1.5  1.   0.5  3. ]]\n",
      "\n"
     ]
    }
   ],
   "source": [
    "T = SimplexTableau(A, b, c, B, max_counter=20)"
   ]
  },
  {
   "cell_type": "markdown",
   "metadata": {},
   "source": [
    "Checando a solução (determinada pelas colunas $j$ binárias do *tableau*, onde $x_j$ assume o valor da última coluna):"
   ]
  },
  {
   "cell_type": "code",
   "execution_count": 396,
   "metadata": {},
   "outputs": [],
   "source": [
    "x = np.array([1, 5, 0, 3, 0]).reshape(5, 1)"
   ]
  },
  {
   "cell_type": "code",
   "execution_count": 397,
   "metadata": {},
   "outputs": [
    {
     "data": {
      "text/plain": [
       "array([[ 6],\n",
       "       [10],\n",
       "       [ 4]])"
      ]
     },
     "execution_count": 397,
     "metadata": {},
     "output_type": "execute_result"
    }
   ],
   "source": [
    "np.dot(A, x)"
   ]
  },
  {
   "cell_type": "code",
   "execution_count": 398,
   "metadata": {},
   "outputs": [
    {
     "data": {
      "text/plain": [
       "array([[ 6],\n",
       "       [10],\n",
       "       [ 4]])"
      ]
     },
     "execution_count": 398,
     "metadata": {},
     "output_type": "execute_result"
    }
   ],
   "source": [
    "b # Ax = b!"
   ]
  },
  {
   "cell_type": "code",
   "execution_count": 399,
   "metadata": {},
   "outputs": [
    {
     "data": {
      "text/plain": [
       "array([[17]])"
      ]
     },
     "execution_count": 399,
     "metadata": {},
     "output_type": "execute_result"
    }
   ],
   "source": [
    "np.dot(c.T, x) # valor máximo de z"
   ]
  },
  {
   "cell_type": "markdown",
   "metadata": {},
   "source": [
    "### Passo a passo\n",
    "\n",
    "> Como foi criada a implementação apresentada"
   ]
  },
  {
   "cell_type": "markdown",
   "metadata": {},
   "source": [
    "Utilizando o exemplo da seção *2.7.2 Tableau* para construir o tableu passo a passo:"
   ]
  },
  {
   "cell_type": "code",
   "execution_count": 437,
   "metadata": {},
   "outputs": [],
   "source": [
    "A = np.array([[1, -1, 2, -1, 0],\n",
    "              [2, 0, 1, -1, 1]])\n",
    "c = np.array([1, -2, 0, 1, 3]).reshape(5,1)\n",
    "b = np.array([1, -1]).reshape(2,1)"
   ]
  },
  {
   "cell_type": "code",
   "execution_count": 438,
   "metadata": {},
   "outputs": [],
   "source": [
    "B = np.array([0,3]) # indexação começa em 0! Equivale a B = [1, 4]"
   ]
  },
  {
   "cell_type": "markdown",
   "metadata": {},
   "source": [
    "Passar o problema para a forma canônica:"
   ]
  },
  {
   "cell_type": "code",
   "execution_count": 439,
   "metadata": {},
   "outputs": [],
   "source": [
    "def canonical_form(A, b, c, B=None, w=0):\n",
    "    \"\"\"\n",
    "    Passa o PL para a forma canônica: (i) A_B deve ser identidade, (ii) c_B = 0\n",
    "    \"\"\"\n",
    "\n",
    "    if np.all(B != None):\n",
    "        if not np.all(c[B] != 0) or not np.all(A[:, B] != np.identity(len(B))):\n",
    "\n",
    "            A_Binv = np.linalg.inv(A[:, B])\n",
    "            y = A_Binv.T.dot(c[B])\n",
    "            c = c.T - y.T.dot(A).ravel()\n",
    "            c = c.T\n",
    "            w = w + np.dot(y.T, b)\n",
    "\n",
    "            A = A_Binv.dot(A)\n",
    "            b = A_Binv.dot(b)\n",
    "\n",
    "            print('A: \\n', A)\n",
    "            print('b: \\n', b)\n",
    "            print('c: \\n', c)\n",
    "            print('w: \\n', w)\n",
    "            print(\">> Problema canonizado!\")\n",
    "            return A, b, c, w\n",
    "\n",
    "        else:\n",
    "            print(\">> Problema ja na forma canonica!\")\n",
    "            return\n",
    "    \n",
    "    else:\n",
    "        pass"
   ]
  },
  {
   "cell_type": "code",
   "execution_count": 440,
   "metadata": {},
   "outputs": [
    {
     "name": "stdout",
     "output_type": "stream",
     "text": [
      "A: \n",
      " [[ 1.  1. -1.  0.  1.]\n",
      " [ 0.  2. -3.  1.  1.]]\n",
      "b: \n",
      " [[-2.]\n",
      " [-3.]]\n",
      "c: \n",
      " [[ 0.]\n",
      " [-5.]\n",
      " [ 4.]\n",
      " [ 0.]\n",
      " [ 1.]]\n",
      "w: \n",
      " [[-5.]]\n",
      ">> Problema canonizado!\n"
     ]
    }
   ],
   "source": [
    "A, b, c, w = canonical_form(A, b, c, B)"
   ]
  },
  {
   "cell_type": "markdown",
   "metadata": {},
   "source": [
    "#### Construindo o *tableu* inicial\n",
    "\n",
    "Na tabela formada, as linhas correspondem a variáveis não básicas, cujos valroes estão determinados na última coluna."
   ]
  },
  {
   "cell_type": "code",
   "execution_count": 441,
   "metadata": {},
   "outputs": [
    {
     "data": {
      "text/plain": [
       "array([[ 1., -0.,  5., -4., -0., -1.,  0.],\n",
       "       [ 0.,  1.,  1., -1.,  0.,  1., -2.],\n",
       "       [ 0.,  0.,  2., -3.,  1.,  1., -3.]])"
      ]
     },
     "execution_count": 441,
     "metadata": {},
     "output_type": "execute_result"
    }
   ],
   "source": [
    "T = np.concatenate((np.zeros(A.shape[0]).reshape(A.shape[0],1), A, b), axis=1)\n",
    "T = np.concatenate((np.array([1] + list(-c.T[0]) + [0]).reshape(1, c.shape[0]+2), T), axis=0)\n",
    "T"
   ]
  },
  {
   "cell_type": "markdown",
   "metadata": {},
   "source": [
    "#### *Pivot* - trocando uma variável básica por uma não básica\n",
    "\n",
    "Aplicando o procedimento do *pivot* num elemento $(i,j)$ do tableu T significa gerar o tableu T' tal que:\n",
    "\n",
    "<img src=\"files/pivoting.png\" width=\"350\">"
   ]
  },
  {
   "cell_type": "markdown",
   "metadata": {},
   "source": [
    "Escolhemos o elemento $(i, j)$ tal que $- c_j < 0$ e $j = argmin (\\frac{b_i}{T(i,k)} : \\frac{b_i}{T(i,k)} > 0)$:"
   ]
  },
  {
   "cell_type": "code",
   "execution_count": 442,
   "metadata": {},
   "outputs": [
    {
     "data": {
      "text/plain": [
       "array([-4., -1., -3.])"
      ]
     },
     "execution_count": 442,
     "metadata": {},
     "output_type": "execute_result"
    }
   ],
   "source": [
    "j = np.where(T[0,1:-1] < 0)[0][0] # primeiro elemento em quem -c > 0 (exceto primeira e última colunas)\n",
    "j = j+1 # pulamos a primeira coluna\n",
    "T[:, j]"
   ]
  },
  {
   "cell_type": "code",
   "execution_count": 443,
   "metadata": {},
   "outputs": [
    {
     "data": {
      "text/plain": [
       "array([2., 1.])"
      ]
     },
     "execution_count": 443,
     "metadata": {},
     "output_type": "execute_result"
    }
   ],
   "source": [
    "razao = T[1:, -1]/T[1:, j] # divide os valores de b pela coluna (máximo de aumento da variável da coluna k)\n",
    "razao"
   ]
  },
  {
   "cell_type": "code",
   "execution_count": 444,
   "metadata": {},
   "outputs": [
    {
     "data": {
      "text/plain": [
       "2"
      ]
     },
     "execution_count": 444,
     "metadata": {},
     "output_type": "execute_result"
    }
   ],
   "source": [
    "razao = np.where(razao < 0, np.nan_to_num(np.inf), razao) # substitui valores negativo por +inf\n",
    "i = np.argmin(razao) # obtem o índice do menor valor (menor dentre os máximos para a variável da coluna k)\n",
    "i = i+1 # pulamos a primeira linha\n",
    "i"
   ]
  },
  {
   "cell_type": "markdown",
   "metadata": {},
   "source": [
    "O elemento escolhido foi:"
   ]
  },
  {
   "cell_type": "code",
   "execution_count": 445,
   "metadata": {
    "scrolled": true
   },
   "outputs": [
    {
     "name": "stdout",
     "output_type": "stream",
     "text": [
      "T(2,3) = -3.0\n"
     ]
    }
   ],
   "source": [
    "print(\"T({},{}) = {}\".format(i, j, T[i, j]))"
   ]
  },
  {
   "cell_type": "code",
   "execution_count": 446,
   "metadata": {},
   "outputs": [
    {
     "data": {
      "text/plain": [
       "array([[ 1.  , -0.  ,  5.  , -4.  , -0.  , -1.  ,  0.  ],\n",
       "       [ 0.  ,  1.  ,  1.  , -1.  ,  0.  ,  1.  , -2.  ],\n",
       "       [-0.  , -0.  , -0.67,  1.  , -0.33, -0.33,  1.  ]])"
      ]
     },
     "execution_count": 446,
     "metadata": {},
     "output_type": "execute_result"
    }
   ],
   "source": [
    "T[i,:] = T[i,:]/T[i, j] # dividindo a linha pelo valor escolhido\n",
    "T.round(2)"
   ]
  },
  {
   "cell_type": "code",
   "execution_count": 447,
   "metadata": {},
   "outputs": [],
   "source": [
    "for l in range(T.shape[0]):\n",
    "    \n",
    "    if l != i:\n",
    "        m = T[l, j]/T[i,j] # fator multiplicativo para zerar o elemento\n",
    "        T[l,:] = T[l,:] - m*T[i,:]\n",
    "        \n",
    "    else:\n",
    "        T[i,j] = T[i,j]"
   ]
  },
  {
   "cell_type": "code",
   "execution_count": 448,
   "metadata": {},
   "outputs": [
    {
     "data": {
      "text/plain": [
       "array([[ 1.  , -0.  ,  2.33,  0.  , -1.33, -2.33,  4.  ],\n",
       "       [ 0.  ,  1.  ,  0.33,  0.  , -0.33,  0.67, -1.  ],\n",
       "       [-0.  , -0.  , -0.67,  1.  , -0.33, -0.33,  1.  ]])"
      ]
     },
     "execution_count": 448,
     "metadata": {},
     "output_type": "execute_result"
    }
   ],
   "source": [
    "T.round(2)"
   ]
  },
  {
   "cell_type": "markdown",
   "metadata": {},
   "source": [
    "#### Repetindo o procedimento\n",
    "\n",
    "Agora que temos novas variáveis básicas (referentes às colunas 3 e 4), repetimos o procedimento. \n",
    "\n",
    "Temos uma solução determinada quando todos $-c >= 0$, ou seja, a primeira linha se tornar não negativa. "
   ]
  },
  {
   "cell_type": "code",
   "execution_count": 459,
   "metadata": {},
   "outputs": [
    {
     "name": "stdout",
     "output_type": "stream",
     "text": [
      ">>> Iteração 0:\n",
      "T: [[ 1.    0.    2.33  0.   -1.33 -2.33  4.  ]\n",
      " [ 0.    1.    0.33  0.   -0.33  0.67 -1.  ]\n",
      " [ 0.    0.   -0.67  1.   -0.33 -0.33  1.  ]]\n",
      "\n",
      ">>> Iteração 1:\n",
      "T: [[ 1. -4.  1.  0.  0. -5.  8.]\n",
      " [-0. -3. -1. -0.  1. -2.  3.]\n",
      " [ 0. -1. -1.  1.  0. -1.  2.]]\n",
      "\n",
      ">>> Iteração 2:\n",
      "T: [[ 1.    0.    2.33  0.   -1.33 -2.33  4.  ]\n",
      " [ 0.    1.    0.33  0.   -0.33  0.67 -1.  ]\n",
      " [ 0.    0.   -0.67  1.   -0.33 -0.33  1.  ]]\n",
      "\n",
      ">>> Iteração 3:\n",
      "T: [[ 1. -4.  1.  0.  0. -5.  8.]\n",
      " [-0. -3. -1. -0.  1. -2.  3.]\n",
      " [ 0. -1. -1.  1.  0. -1.  2.]]\n",
      "\n",
      ">>> Iteração 4:\n",
      "T: [[ 1.    0.    2.33  0.   -1.33 -2.33  4.  ]\n",
      " [ 0.    1.    0.33  0.   -0.33  0.67 -1.  ]\n",
      " [ 0.    0.   -0.67  1.   -0.33 -0.33  1.  ]]\n",
      "\n",
      ">>> Iteração 5:\n",
      "T: [[ 1. -4.  1.  0.  0. -5.  8.]\n",
      " [-0. -3. -1. -0.  1. -2.  3.]\n",
      " [ 0. -1. -1.  1.  0. -1.  2.]]\n",
      "\n",
      ">>> Iteração 6:\n",
      "T: [[ 1.    0.    2.33  0.   -1.33 -2.33  4.  ]\n",
      " [ 0.    1.    0.33  0.   -0.33  0.67 -1.  ]\n",
      " [ 0.    0.   -0.67  1.   -0.33 -0.33  1.  ]]\n",
      "\n",
      ">>> Iteração 7:\n",
      "T: [[ 1. -4.  1.  0.  0. -5.  8.]\n",
      " [-0. -3. -1. -0.  1. -2.  3.]\n",
      " [ 0. -1. -1.  1.  0. -1.  2.]]\n",
      "\n",
      ">>> Iteração 8:\n",
      "T: [[ 1.    0.    2.33  0.   -1.33 -2.33  4.  ]\n",
      " [ 0.    1.    0.33  0.   -0.33  0.67 -1.  ]\n",
      " [ 0.    0.   -0.67  1.   -0.33 -0.33  1.  ]]\n",
      "\n",
      ">>> Iteração 9:\n",
      "T: [[ 1. -4.  1.  0.  0. -5.  8.]\n",
      " [-0. -3. -1. -0.  1. -2.  3.]\n",
      " [ 0. -1. -1.  1.  0. -1.  2.]]\n",
      "\n"
     ]
    }
   ],
   "source": [
    "counter = 0\n",
    "\n",
    "while np.any(T[0,:] < 0) and (counter < 10):\n",
    "    \n",
    "    print('>>> Iteração {}:'.format(counter))\n",
    "    \n",
    "    j = np.where(T[0,1:-1] < 0)[0][0] # primeiro elemento em quem -c > 0 (exceto primeira e última colunas)\n",
    "    j = j+1 # pulamos a primeira coluna\n",
    "    \n",
    "    razao = T[1:, -1]/T[1:, j] # divide os valores de b pela coluna (máximo de aumento da variável da coluna k)\n",
    "    razao = np.where(razao < 0, np.nan_to_num(np.inf), razao) # substitui valores negativo por +inf\n",
    "    \n",
    "    i = np.argmin(razao) # obtem o índice do menor valor (menor dentre os máximos para a variável da coluna k)\n",
    "    i = i+1 # pulamos a primeira linha\n",
    "\n",
    "    T[i,:] = T[i,:]/T[i, j] # dividindo a linha pelo valor escolhido\n",
    "    \n",
    "    for l in range(T.shape[0]):\n",
    "\n",
    "        if l != i:\n",
    "            m = T[l, j]/T[i,j] # fator multiplicativo para zerar o elemento\n",
    "            T[l,:] = T[l,:] - m*T[i,:]\n",
    "\n",
    "        else:\n",
    "            T[i,j] = T[i,j]\n",
    "        \n",
    "    print('T: {}\\n'.format(T.round(2)))\n",
    "            \n",
    "    counter +=1"
   ]
  },
  {
   "cell_type": "markdown",
   "metadata": {},
   "source": [
    "O problema está cíclico! Talvez seja ilimitado, vamos checar:"
   ]
  },
  {
   "cell_type": "code",
   "execution_count": 461,
   "metadata": {},
   "outputs": [],
   "source": [
    "from scipy.optimize import linprog"
   ]
  },
  {
   "cell_type": "code",
   "execution_count": 462,
   "metadata": {},
   "outputs": [
    {
     "data": {
      "text/plain": [
       "     con: array([0., 0.])\n",
       "     fun: 8.0\n",
       " message: 'Optimization failed. The problem appears to be unbounded.'\n",
       "     nit: 2\n",
       "   slack: array([], dtype=float64)\n",
       "  status: 3\n",
       " success: False\n",
       "       x: array([0., 0., 2., 3., 0.])"
      ]
     },
     "execution_count": 462,
     "metadata": {},
     "output_type": "execute_result"
    }
   ],
   "source": [
    "linprog(c, A_eq=A, b_eq=b)"
   ]
  }
 ],
 "metadata": {
  "kernelspec": {
   "display_name": "Python 3",
   "language": "python",
   "name": "python3"
  },
  "language_info": {
   "codemirror_mode": {
    "name": "ipython",
    "version": 3
   },
   "file_extension": ".py",
   "mimetype": "text/x-python",
   "name": "python",
   "nbconvert_exporter": "python",
   "pygments_lexer": "ipython3",
   "version": "3.7.2"
  }
 },
 "nbformat": 4,
 "nbformat_minor": 2
}
