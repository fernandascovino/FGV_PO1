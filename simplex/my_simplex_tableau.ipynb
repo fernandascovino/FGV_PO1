{
 "cells": [
  {
   "cell_type": "markdown",
   "metadata": {},
   "source": [
    "### Simplex Tableau\n",
    "---\n",
    "\n",
    "Construção do algoritmo Simplex na forma Tableau:\n",
    "\n",
    "* Não precisamos dos passos dados no Simplex \"raiz\", as iterações são compostas apenas de operações matriciais\n",
    "* No Tableau, criamos uma matriz indexada pelas variábeis básicas, composta pela matriz de restrições com o vetor $b$ concatenado, e o vetor de custo com o resultado $z$ concatenado, como mostra a figura abaixo:\n",
    "\n",
    "<img src=\"files/simplex_tableau.jpg\">"
   ]
  },
  {
   "cell_type": "raw",
   "metadata": {},
   "source": [
    "import numpy as np\n",
    "A = np.matrix([[1,1,1,0,0], [2,1,0,1,0], [-1,1,0,0,1]])\n",
    "c = np.array([2,3,0,0,0]).reshape(5,1)\n",
    "#x = np.array([0,0,6,10,4]).reshape(5,1)\n",
    "b = np.array([6,10,4]).reshape(3,1)"
   ]
  },
  {
   "cell_type": "code",
   "execution_count": 1,
   "metadata": {},
   "outputs": [],
   "source": [
    "import numpy as np"
   ]
  },
  {
   "cell_type": "markdown",
   "metadata": {},
   "source": [
    "#### PL do exercício 2.4 (2)"
   ]
  },
  {
   "cell_type": "code",
   "execution_count": 45,
   "metadata": {},
   "outputs": [],
   "source": [
    "A = np.array([[1, -1, 2, -1, 0],\n",
    "              [2, 0, 1, -1, 1]])\n",
    "c = np.array([1, -2, 0, 1, 3]).reshape(5,1)\n",
    "b = np.array([1, -1]).reshape(2,1)"
   ]
  },
  {
   "cell_type": "code",
   "execution_count": 46,
   "metadata": {},
   "outputs": [
    {
     "data": {
      "text/plain": [
       "array([[ 1, -1,  2, -1,  0],\n",
       "       [ 2,  0,  1, -1,  1]])"
      ]
     },
     "execution_count": 46,
     "metadata": {},
     "output_type": "execute_result"
    }
   ],
   "source": [
    "A"
   ]
  },
  {
   "cell_type": "code",
   "execution_count": 47,
   "metadata": {},
   "outputs": [
    {
     "data": {
      "text/plain": [
       "array([[ 1],\n",
       "       [-1]])"
      ]
     },
     "execution_count": 47,
     "metadata": {},
     "output_type": "execute_result"
    }
   ],
   "source": [
    "b"
   ]
  },
  {
   "cell_type": "code",
   "execution_count": 48,
   "metadata": {
    "scrolled": true
   },
   "outputs": [
    {
     "data": {
      "text/plain": [
       "array([[ 1],\n",
       "       [-2],\n",
       "       [ 0],\n",
       "       [ 1],\n",
       "       [ 3]])"
      ]
     },
     "execution_count": 48,
     "metadata": {},
     "output_type": "execute_result"
    }
   ],
   "source": [
    "c"
   ]
  },
  {
   "cell_type": "code",
   "execution_count": 54,
   "metadata": {},
   "outputs": [],
   "source": [
    "B = np.array([0,3]) # indexação começa em 0! Equivale a B = [1, 4]"
   ]
  },
  {
   "cell_type": "markdown",
   "metadata": {},
   "source": [
    "Passar o problema para a forma canônica:"
   ]
  },
  {
   "cell_type": "code",
   "execution_count": 55,
   "metadata": {},
   "outputs": [],
   "source": [
    "def canonical_form(A, b, c, B=None, w=0):\n",
    "    \"\"\"\n",
    "    Passa o PL para a forma canônica: (i) A_B deve ser identidade, (ii) c_B = 0\n",
    "    \"\"\"\n",
    "\n",
    "    if np.all(B != None):\n",
    "        if not np.all(c[B] != 0) or not np.all(A[:, B] != np.identity(len(B))):\n",
    "\n",
    "            A_Binv = np.linalg.inv(A[:, B])\n",
    "            y = A_Binv.T.dot(c[B])\n",
    "            c = c.T - y.T.dot(A).ravel()\n",
    "            c = c.T\n",
    "            w = w + np.dot(y.T, b)\n",
    "\n",
    "            A = A_Binv.dot(A)\n",
    "            b = A_Binv.dot(b)\n",
    "\n",
    "            print('A: \\n', A)\n",
    "            print('b: \\n', b)\n",
    "            print('c: \\n', c)\n",
    "            print('w: \\n', w)\n",
    "            print(\">> Problema canonizado!\")\n",
    "            return A, b, c, w\n",
    "\n",
    "        else:\n",
    "            print(\">> Problema ja na forma canonica!\")\n",
    "            return\n",
    "    \n",
    "    else:\n",
    "        pass"
   ]
  },
  {
   "cell_type": "code",
   "execution_count": 56,
   "metadata": {},
   "outputs": [
    {
     "name": "stdout",
     "output_type": "stream",
     "text": [
      "A: \n",
      " [[ 1.  1. -1.  0.  1.]\n",
      " [ 0.  2. -3.  1.  1.]]\n",
      "b: \n",
      " [[-2.]\n",
      " [-3.]]\n",
      "c: \n",
      " [[ 0.]\n",
      " [-5.]\n",
      " [ 4.]\n",
      " [ 0.]\n",
      " [ 1.]]\n",
      "w: \n",
      " [[0.]]\n",
      ">> Problema canonizado!\n"
     ]
    }
   ],
   "source": [
    "A, b, c, w = canonical_form(A, b, c, B)"
   ]
  },
  {
   "cell_type": "markdown",
   "metadata": {},
   "source": [
    "Construindo o *tableu* inicial:"
   ]
  },
  {
   "cell_type": "code",
   "execution_count": 131,
   "metadata": {},
   "outputs": [
    {
     "data": {
      "text/plain": [
       "array([[ 1., -0.,  5., -4., -0., -1.,  0.],\n",
       "       [ 0.,  1.,  1., -1.,  0.,  1., -2.],\n",
       "       [ 0.,  0.,  2., -3.,  1.,  1., -3.]])"
      ]
     },
     "execution_count": 131,
     "metadata": {},
     "output_type": "execute_result"
    }
   ],
   "source": [
    "T = np.concatenate((np.zeros(A.shape[0]).reshape(A.shape[0],1), A, b), axis=1)\n",
    "T = np.concatenate((np.array([1] + list(-c.T[0]) + [0]).reshape(1, c.shape[0]+2), T), axis=0)\n",
    "T"
   ]
  },
  {
   "cell_type": "markdown",
   "metadata": {},
   "source": [
    "*Pivot* - trocando uma variável básica por uma não básica:"
   ]
  },
  {
   "cell_type": "code",
   "execution_count": 132,
   "metadata": {},
   "outputs": [
    {
     "data": {
      "text/plain": [
       "array([-4., -1., -3.])"
      ]
     },
     "execution_count": 132,
     "metadata": {},
     "output_type": "execute_result"
    }
   ],
   "source": [
    "k = np.argmin(T[0, :]) # coluna com o menor valor em -c (coluna da variável não básica a ser aumentada)\n",
    "T[:, k]"
   ]
  },
  {
   "cell_type": "code",
   "execution_count": 133,
   "metadata": {},
   "outputs": [
    {
     "data": {
      "text/plain": [
       "array([2., 1.])"
      ]
     },
     "execution_count": 133,
     "metadata": {},
     "output_type": "execute_result"
    }
   ],
   "source": [
    "razao = T[1:, -1]/T[1:, k] # divide os valores de b pela coluna (máximo de aumento da variável da coluna k)\n",
    "razao"
   ]
  },
  {
   "cell_type": "code",
   "execution_count": 134,
   "metadata": {},
   "outputs": [
    {
     "data": {
      "text/plain": [
       "1"
      ]
     },
     "execution_count": 134,
     "metadata": {},
     "output_type": "execute_result"
    }
   ],
   "source": [
    "razao = np.where(razao < 0, np.nan_to_num(np.inf), razao) # substitui valores negativo por +inf\n",
    "i = np.argmin(razao) # obtem o índice do menor valor (menor dentre os máximos para a variável da coluna k)\n",
    "i"
   ]
  },
  {
   "cell_type": "code",
   "execution_count": 135,
   "metadata": {},
   "outputs": [
    {
     "data": {
      "text/plain": [
       "-1.0"
      ]
     },
     "execution_count": 135,
     "metadata": {},
     "output_type": "execute_result"
    }
   ],
   "source": [
    "T[i, k]"
   ]
  },
  {
   "cell_type": "code",
   "execution_count": 136,
   "metadata": {},
   "outputs": [
    {
     "data": {
      "text/plain": [
       "array([[ 1., -0.,  5., -4., -0., -1.,  0.],\n",
       "       [-0., -1., -1.,  1., -0., -1.,  2.],\n",
       "       [ 0.,  0.,  2., -3.,  1.,  1., -3.]])"
      ]
     },
     "execution_count": 136,
     "metadata": {},
     "output_type": "execute_result"
    }
   ],
   "source": [
    "T[i,:] = T[i,:]/T[i, k] # dividindo a linha pelo valor eacolhido\n",
    "T"
   ]
  },
  {
   "cell_type": "code",
   "execution_count": null,
   "metadata": {},
   "outputs": [],
   "source": []
  },
  {
   "cell_type": "code",
   "execution_count": null,
   "metadata": {},
   "outputs": [],
   "source": []
  },
  {
   "cell_type": "markdown",
   "metadata": {},
   "source": [
    "### Exemplos\n",
    "---\n",
    "\n",
    "#### Fase I + Fase II"
   ]
  }
 ],
 "metadata": {
  "kernelspec": {
   "display_name": "Python 3",
   "language": "python",
   "name": "python3"
  },
  "language_info": {
   "codemirror_mode": {
    "name": "ipython",
    "version": 3
   },
   "file_extension": ".py",
   "mimetype": "text/x-python",
   "name": "python",
   "nbconvert_exporter": "python",
   "pygments_lexer": "ipython3",
   "version": "3.7.2"
  }
 },
 "nbformat": 4,
 "nbformat_minor": 2
}
