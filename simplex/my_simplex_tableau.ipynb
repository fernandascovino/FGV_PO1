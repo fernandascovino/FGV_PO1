{
 "cells": [
  {
   "cell_type": "markdown",
   "metadata": {},
   "source": [
    "### Simplex Tableau\n",
    "---\n",
    "\n",
    "Construção do algoritmo Simplex na forma Tableau:\n",
    "\n",
    "* Não precisamos dos passos dados no Simplex \"raiz\", as iterações são compostas apenas de operações matriciais\n",
    "* No Tableau, criamos uma matriz indexada pelas variábeis básicas, composta pela matriz de restrições com o vetor $b$ concatenado, e o vetor de custo com o resultado $z$ concatenado, como mostra a figura abaixo:\n",
    "\n",
    "<img src=\"files/simplex_tableau.jpg\">"
   ]
  },
  {
   "cell_type": "code",
   "execution_count": 48,
   "metadata": {},
   "outputs": [],
   "source": [
    "import numpy as np\n",
    "A = np.matrix([[1,1,1,0,0], [2,1,0,1,0], [-1,1,0,0,1]])\n",
    "c = np.array([2,3,0,0,0]).reshape(5,1)\n",
    "#x = np.array([0,0,6,10,4]).reshape(5,1)\n",
    "b = np.array([6,10,4]).reshape(3,1)"
   ]
  },
  {
   "cell_type": "markdown",
   "metadata": {},
   "source": [
    "Passar para forma canônica:\n",
    "\n",
    "$Ax = b \\rightarrow Ax \\leq b, Ax \\geq b \\rightarrow Ax - [x_{n+1}, ... x_{n+m}] = b, Ax + [x_{n+m}, ... x_{n+2m}] = b$ ..."
   ]
  },
  {
   "cell_type": "code",
   "execution_count": 49,
   "metadata": {},
   "outputs": [
    {
     "data": {
      "text/plain": [
       "matrix([[ 1,  1,  1,  0,  0],\n",
       "        [ 2,  1,  0,  1,  0],\n",
       "        [-1,  1,  0,  0,  1]])"
      ]
     },
     "execution_count": 49,
     "metadata": {},
     "output_type": "execute_result"
    }
   ],
   "source": [
    "A"
   ]
  },
  {
   "cell_type": "code",
   "execution_count": 50,
   "metadata": {},
   "outputs": [
    {
     "data": {
      "text/plain": [
       "array([[ 6],\n",
       "       [10],\n",
       "       [ 4]])"
      ]
     },
     "execution_count": 50,
     "metadata": {},
     "output_type": "execute_result"
    }
   ],
   "source": [
    "b"
   ]
  },
  {
   "cell_type": "code",
   "execution_count": 51,
   "metadata": {
    "scrolled": true
   },
   "outputs": [
    {
     "data": {
      "text/plain": [
       "array([[2],\n",
       "       [3],\n",
       "       [0],\n",
       "       [0],\n",
       "       [0]])"
      ]
     },
     "execution_count": 51,
     "metadata": {},
     "output_type": "execute_result"
    }
   ],
   "source": [
    "c"
   ]
  },
  {
   "cell_type": "code",
   "execution_count": 74,
   "metadata": {},
   "outputs": [
    {
     "data": {
      "text/plain": [
       "matrix([[ 1., -2., -3.,  0.,  0.,  0.,  0.],\n",
       "        [ 0.,  1.,  1.,  1.,  0.,  0.,  6.],\n",
       "        [ 0.,  2.,  1.,  0.,  1.,  0., 10.],\n",
       "        [ 0., -1.,  1.,  0.,  0.,  1.,  4.]])"
      ]
     },
     "execution_count": 74,
     "metadata": {},
     "output_type": "execute_result"
    }
   ],
   "source": [
    "T = np.concatenate((np.zeros(A.shape[0]).reshape(3,1), A, b), axis=1)\n",
    "T = np.concatenate((np.array([1] + list(-c.T[0]) + [0]).reshape(1, 7), T), axis=0)\n",
    "T"
   ]
  },
  {
   "cell_type": "code",
   "execution_count": null,
   "metadata": {},
   "outputs": [],
   "source": []
  },
  {
   "cell_type": "code",
   "execution_count": 33,
   "metadata": {},
   "outputs": [
    {
     "ename": "IndentationError",
     "evalue": "unindent does not match any outer indentation level (<ipython-input-33-fcc0a81f6251>, line 24)",
     "output_type": "error",
     "traceback": [
      "\u001b[0;36m  File \u001b[0;32m\"<ipython-input-33-fcc0a81f6251>\"\u001b[0;36m, line \u001b[0;32m24\u001b[0m\n\u001b[0;31m    def __init__(self, A, c, x, b):\u001b[0m\n\u001b[0m                                   ^\u001b[0m\n\u001b[0;31mIndentationError\u001b[0m\u001b[0;31m:\u001b[0m unindent does not match any outer indentation level\n"
     ]
    }
   ],
   "source": [
    "import numpy as np\n",
    "\n",
    "class Simplex():\n",
    "    \n",
    "     \"\"\"\n",
    "    Instancia o metodo Simplex.\n",
    "\n",
    "    Parameters\n",
    "    ----------\n",
    "    A : np.matrix\n",
    "        Matriz de restricoes do PL\n",
    "    c : np.array\n",
    "        Vetor de custos do PL.\n",
    "    x : np.array\n",
    "        Vetor de solução inicial do PL.\n",
    "    b : np.array\n",
    "        Vetor de resposta do PL.\n",
    "\n",
    "    Return\n",
    "    ------\n",
    "    x : np.array\n",
    "        Solucao otima do PL (nx1).\n",
    "    \"\"\"\n",
    "    def __init__(self, A, c, x, b):\n",
    "\n",
    "        self.A = A\n",
    "        self.c = c\n",
    "        self.x = x\n",
    "        self.b = b\n",
    "        \n",
    "    def calculate_tableau(self):\n",
    "        \n",
    "        # cria o tableau\n",
    "        T = np.concatenate((np.zeros(A.shape[0]).reshape(3,1), A, b), axis=1)\n",
    "        T = np.concatenate((np.array([1] + list(-c.T[0]) + [0]).reshape(1, 7), T), axis=0)"
   ]
  },
  {
   "cell_type": "markdown",
   "metadata": {},
   "source": [
    "### Exemplos\n",
    "---\n",
    "\n",
    "#### Fase I + Fase II"
   ]
  }
 ],
 "metadata": {
  "kernelspec": {
   "display_name": "Python 3",
   "language": "python",
   "name": "python3"
  },
  "language_info": {
   "codemirror_mode": {
    "name": "ipython",
    "version": 3
   },
   "file_extension": ".py",
   "mimetype": "text/x-python",
   "name": "python",
   "nbconvert_exporter": "python",
   "pygments_lexer": "ipython3",
   "version": "3.6.5"
  }
 },
 "nbformat": 4,
 "nbformat_minor": 2
}
