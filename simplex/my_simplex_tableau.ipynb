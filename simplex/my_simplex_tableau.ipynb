{
 "cells": [
  {
   "cell_type": "markdown",
   "metadata": {},
   "source": [
    "### Simplex Tableau\n",
    "---\n",
    "\n",
    "Construção do algoritmo Simplex na forma Tableau:\n",
    "\n",
    "* Não precisamos dos passos dados no Simplex \"raiz\", as iterações são compostas apenas de operações matriciais\n",
    "* No Tableau, criamos uma matriz indexada pelas variábeis básicas, composta pela matriz de restrições com o vetor $b$ concatenado, e o vetor de custo com o resultado $z$ concatenado, como mostra a figura abaixo:\n",
    "\n",
    "<img src=\"files/simplex_tableau.jpg\">"
   ]
  },
  {
   "cell_type": "code",
   "execution_count": 2,
   "metadata": {},
   "outputs": [],
   "source": [
    "import numpy as np\n",
    "A = np.matrix([[1,5,2,1], [-2,-9,0,3]])\n",
    "c = np.array([1,2,-1,3]).reshape(4,1)\n",
    "b = np.array([7,-13]).reshape(2,1)"
   ]
  },
  {
   "cell_type": "markdown",
   "metadata": {},
   "source": [
    "Passar para forma canônica:\n",
    "\n",
    "$Ax = b \\rightarrow Ax \\leq b, Ax \\geq b \\rightarrow Ax - [x_{n+1}, ... x_{n+m}] = b, Ax + [x_{n+m}, ... x_{n+2m}] = b$ ..."
   ]
  },
  {
   "cell_type": "code",
   "execution_count": 3,
   "metadata": {},
   "outputs": [],
   "source": [
    "def find_basis(A, c, b):\n",
    "        \"\"\"\n",
    "        Gera a base, determinando se o problema é factível.\n",
    "        \"\"\"\n",
    "        \n",
    "        print(\"Buscando uma base...\")\n",
    "        \n",
    "        # Criamos i novas variáveis\n",
    "        i = A.shape[0]\n",
    "        A_exp = np.append(A, np.identity(i), axis=1)\n",
    "        \n",
    "        # Atualizando c e criando a base inicial\n",
    "        c = np.zeros((A_exp.shape[1], 1))\n",
    "        c[-i:] = 1\n",
    "        B = np.where(c == 1)[0]\n",
    "        \n",
    "        # Solução inicial\n",
    "        pinv = np.linalg.pinv(A)\n",
    "        x = np.dot(pinv, b)\n",
    "        \n",
    "        # Calculando simplex para o problema \"artificial\"\n",
    "        s = Simplex(A_exp, c, x, b, maximum=False, B=B)\n",
    "        x = s.calculate()\n",
    "        \n",
    "        # Checando solução factível: variáveis novas devem estar zeradas!\n",
    "        if x[i:].any() == 0:\n",
    "            B = np.where(x[:i] == 0)\n",
    "            print(\">> Base encontrada: B == {}\".format(B))\n",
    "            \n",
    "            return B\n",
    "        \n",
    "        else:\n",
    "            print(\"Problema não é factível :(\")"
   ]
  },
  {
   "cell_type": "code",
   "execution_count": null,
   "metadata": {},
   "outputs": [],
   "source": []
  },
  {
   "cell_type": "code",
   "execution_count": null,
   "metadata": {},
   "outputs": [],
   "source": [
    "import numpy as np\n",
    "\n",
    "class Simplex():\n",
    "    \n",
    "     \"\"\"\n",
    "    Instancia o metodo Simplex.\n",
    "\n",
    "    Parameters\n",
    "    ----------\n",
    "    A : np.matrix\n",
    "        Matriz de restricoes do PL\n",
    "    c : np.array\n",
    "        Vetor de custos do PL.\n",
    "    x : np.array\n",
    "        Vetor de solução inicial do PL.\n",
    "    b : np.array\n",
    "        Vetor de resposta do PL.\n",
    "\n",
    "    Return\n",
    "    ------\n",
    "    x : np.array\n",
    "        Solucao otima do PL (nx1).\n",
    "    \"\"\"\n",
    "    def __init__(self, A, c, x, b):\n",
    "\n",
    "        self.A = A\n",
    "        self.c = c\n",
    "        self.x = x\n",
    "        self.b = b\n",
    "        \n",
    "    def calculate_tableau(self):\n",
    "        \n",
    "        T = "
   ]
  },
  {
   "cell_type": "markdown",
   "metadata": {},
   "source": [
    "### Exemplos\n",
    "---\n",
    "\n",
    "#### Fase I + Fase II"
   ]
  }
 ],
 "metadata": {
  "kernelspec": {
   "display_name": "Python 3",
   "language": "python",
   "name": "python3"
  },
  "language_info": {
   "codemirror_mode": {
    "name": "ipython",
    "version": 3
   },
   "file_extension": ".py",
   "mimetype": "text/x-python",
   "name": "python",
   "nbconvert_exporter": "python",
   "pygments_lexer": "ipython3",
   "version": "3.7.0"
  }
 },
 "nbformat": 4,
 "nbformat_minor": 2
}
