{
 "cells": [
  {
   "cell_type": "code",
   "execution_count": 103,
   "metadata": {},
   "outputs": [],
   "source": [
    "import numpy as np\n",
    "from numpy.linalg import inv\n",
    "\n",
    "# class LinearProgram():\n",
    "\n",
    "#     def __init__(self):\n",
    "#         self.restrictions = np.nan\n",
    "#         self.costs = np.nan\n",
    "#         self.independent_cost = 0\n",
    "#         self.result = np.nan\n",
    "#         self.basis = np.nan\n",
    "#         self.operator = max\n",
    "\n",
    "#     # Provar que o problema é factível! (E achar a base)\n",
    "#     def find_basis(self):\n",
    "#         pass\n",
    "# OBS:  função built_in np.linalg.solve só resolve sistema linear com matriz  \n",
    "\n",
    "class Simplex:\n",
    "\n",
    "    \"\"\"\n",
    "    Instancia o metodo Simplex.\n",
    "\n",
    "    Parameters\n",
    "    ----------\n",
    "    PL : class LinearProgram\n",
    "        Problema linear definido pela classe LinearProgram\n",
    "\n",
    "    Return\n",
    "    ------\n",
    "    x : np.array\n",
    "        Solucao otima do PL (nx1).\n",
    "    \"\"\"\n",
    "    def __init__(self, A, c, b, maximum=True, w=0, B=np.nan):\n",
    "\n",
    "        self.A = A\n",
    "        self.c = c\n",
    "        self.b = b\n",
    "        self.w = w\n",
    "        \n",
    "        if type(B) == np.ndarray:\n",
    "            self.B = B\n",
    "            self.N = list(set(range(self.A.shape[1])) - set(self.B))\n",
    "            \n",
    "        if maximum:\n",
    "            self.operator = max\n",
    "        else:\n",
    "            self.operator = min\n",
    "\n",
    "    def find_basis(self):\n",
    "        \"\"\"\n",
    "        Gera a base, determinando se o problema é factível.\n",
    "        \"\"\"\n",
    "        \n",
    "        print(\"Buscando uma base...\")\n",
    "        \n",
    "        # Criamos i novas variáveis\n",
    "        i = self.A.shape[0]\n",
    "        A_exp = np.append(self.A, np.identity(j), axis=1)\n",
    "        \n",
    "        # Calculamos a solução A_exp * x = b -> x = A_exp' * b\n",
    "        pinv = np.linalg.pinv(A_exp)\n",
    "        x = np.dot(pinv, self.b)\n",
    "        \n",
    "        # Checando solução factível: variáveis novas devem estar zeradas!\n",
    "        if x[i:].any() == 0:\n",
    "            self.B = np.where(x[:i] == 0)\n",
    "            print(\">> Base encontrada: B == {}\".format(self.b))\n",
    "            self.calculate()\n",
    "            \n",
    "        else:\n",
    "            print(\"Problema não é factível :(\")\n",
    "\n",
    "    def canonical_form(self):\n",
    "        \"\"\"\n",
    "        Passa o PL para a forma canônica: (i) A_B deve ser identidade, (ii) c_B = 0\n",
    "        \"\"\"\n",
    "        \n",
    "        if self.c[self.B].any() != 0 or (self.A[:, self.B] != np.identity(len(self.B))).any():\n",
    "            \n",
    "            self.y = np.linalg.inv(self.A[:, self.B].T).dot(self.c[self.B])\n",
    "            self.c = self.c.T - self.y.dot(self.A).ravel()\n",
    "            self.c = np.array(self.c.tolist()[0])\n",
    "            self.w = self.w + self.y.dot(self.b)\n",
    "            self.A = np.linalg.inv(self.A[:, self.B]).dot(self.A)\n",
    "            print(\">> Problema canonizado! Indo para (2)...\")\n",
    "            \n",
    "        else:\n",
    "            print(\">> Problema ja na forma canonica! Indo para (2)...\")\n",
    "    \n",
    "    def step(self):\n",
    "        \n",
    "        x = np.zeros(A.shape[1])\n",
    "        x[B] = np.linalg.solve(A[:, B], b).T\n",
    "        \n",
    "#         var_basicas = self.c[x > 0]\n",
    "#         var_nao_basicas = self.c[x == 0]\n",
    "        var_basicas = np.where(x > 0)\n",
    "        var_nao_basicas = np.where(x == 0)\n",
    "        \n",
    "        # Encontrar tamanho do passo\n",
    "        rows = self.b.shape[0]\n",
    "        \n",
    "        t_set = np.array([self.b[i]/self.A[i, self.k] for i in range(rows)])\n",
    "        t = t_set[t_set > 0] # t > 0\n",
    "        \n",
    "        if self.operator:\n",
    "            t = min(t) # problema de maximizacao\n",
    "        else:\n",
    "            t = max(t) # problema de minimizacao\n",
    "            \n",
    "        self.r = np.where(t_set == t)[0][0]\n",
    "\n",
    "        # Dar o passo escolhido\n",
    "        x_aux = self.b - t*self.A[:, self.k]\n",
    "        x_aux = np.array(x_aux.tolist()) # \"flatten\": shape (3,1) -> (3,)\n",
    "        \n",
    "        self.x = np.zeros((self.c.shape[0], 1))\n",
    "        self.x[self.k] = t\n",
    "        self.x[var_basicas] = x_aux\n",
    "#         x = np.zeros((var_nao_basicas.shape[0], 1))\n",
    "#         x[self.k, 0] = t\n",
    "#         self.x = np.concatenate((x, x_aux))\n",
    "\n",
    "        print('>> x == {}'.format(self.x))\n",
    "\n",
    "    def calculate(self):\n",
    "\n",
    "        print(\">>> Iniciando Simplex!\")\n",
    "\n",
    "        while self.c[self.N].any() > 0:\n",
    "            \n",
    "            print(\"\\n\\n1. Reescrevendo o PL na forma canonica para a base B...\\n\")\n",
    "            self.canonical_form()\n",
    "            \n",
    "            print(\"\\n2. Teste de otimalidade (c_N <= 0):\")\n",
    "            print(\">> c_N == {}\".format(self.c[self.N]))\n",
    "            print(\">> c_B == {}\".format(self.c[self.B]))\n",
    "\n",
    "            print(\"\\n3. Seleciona k em N tal que c[k] > 0...\")\n",
    "            # self.k = np.argmax(self.c)\n",
    "            self.k = self.c.nonzero()[0][0] # primeiro valor não nulo\n",
    "            print(\">> k == {}\".format(self.k))\n",
    "\n",
    "            print(\"\\n4. Teste de unboundness (A[:,k] <= 0):\")\n",
    "            if self.A[:, self.k].any() <= 0:\n",
    "                (\">>> Processo terminado!\")\n",
    "                return x\n",
    "            print(\">> A[:,k] == {}\".format(self.A[:, self.k]))\n",
    "            \n",
    "            print(\"\\n5. Passo Simplex...\")\n",
    "            self.step()\n",
    "\n",
    "            print(\"\\n6. Atualizando a base...\")\n",
    "            self.B = np.append(self.B, self.k)\n",
    "            self.B = np.delete(self.B, self.r)\n",
    "            \n",
    "            self.N = list(set(range(self.A.shape[1])) - set(self.B))\n",
    "            print(\">> B == {}\\n\".format(self.B))\n",
    "\n",
    "        print(\"Processo terminado!\")\n",
    "        return x"
   ]
  },
  {
   "cell_type": "code",
   "execution_count": 106,
   "metadata": {},
   "outputs": [
    {
     "name": "stdout",
     "output_type": "stream",
     "text": [
      "Buscando uma base...\n",
      "Problema não é factível :(\n"
     ]
    }
   ],
   "source": [
    "# Formato do PL: max{z = cx + w : Ax = b, x >= 0}\n",
    "A = np.matrix([[1,1,1,0,0], [2,1,0,1,0], [-1,1,0,0,1]])\n",
    "c = np.array([2,3,0,0,0])\n",
    "b = np.array([6,10,4]).reshape(3,1)\n",
    "#B = np.array([2,3,4])\n",
    "\n",
    "x = Simplex(A, c, b)#, B=B)\n",
    "x.find_basis()\n",
    "#x.calculate()"
   ]
  },
  {
   "cell_type": "code",
   "execution_count": 142,
   "metadata": {},
   "outputs": [],
   "source": [
    "c = np.array([[ 0.,  2.,  0., -1.,  0.]])"
   ]
  },
  {
   "cell_type": "code",
   "execution_count": 143,
   "metadata": {},
   "outputs": [
    {
     "data": {
      "text/plain": [
       "array([ 0.,  2.,  0., -1.,  0.])"
      ]
     },
     "execution_count": 143,
     "metadata": {},
     "output_type": "execute_result"
    }
   ],
   "source": [
    "np.array(c.tolist()[0])"
   ]
  },
  {
   "cell_type": "code",
   "execution_count": 144,
   "metadata": {},
   "outputs": [
    {
     "data": {
      "text/plain": [
       "array([ 0.,  2.,  0., -1.,  0.])"
      ]
     },
     "execution_count": 144,
     "metadata": {},
     "output_type": "execute_result"
    }
   ],
   "source": [
    "c = c.ravel()\n",
    "c"
   ]
  },
  {
   "cell_type": "code",
   "execution_count": 145,
   "metadata": {},
   "outputs": [
    {
     "data": {
      "text/plain": [
       "array([0., 0., 0.])"
      ]
     },
     "execution_count": 145,
     "metadata": {},
     "output_type": "execute_result"
    }
   ],
   "source": [
    "c[c==0]"
   ]
  },
  {
   "cell_type": "code",
   "execution_count": 149,
   "metadata": {},
   "outputs": [
    {
     "data": {
      "text/plain": [
       "array([ True, False,  True, False,  True])"
      ]
     },
     "execution_count": 149,
     "metadata": {},
     "output_type": "execute_result"
    }
   ],
   "source": [
    "c == 0"
   ]
  },
  {
   "cell_type": "code",
   "execution_count": 3,
   "metadata": {},
   "outputs": [],
   "source": [
    "A = np.matrix([[1,1,1,0,0], [2,1,0,1,0], [-1,1,0,0,1]])"
   ]
  },
  {
   "cell_type": "code",
   "execution_count": 21,
   "metadata": {},
   "outputs": [],
   "source": [
    "i = A.shape[1]\n",
    "j = A.shape[0]\n",
    "A_aux = np.identity(j)"
   ]
  },
  {
   "cell_type": "code",
   "execution_count": 62,
   "metadata": {},
   "outputs": [
    {
     "data": {
      "text/plain": [
       "matrix([[ 1.,  1.,  1.,  0.,  0.,  1.,  0.,  0.],\n",
       "        [ 2.,  1.,  0.,  1.,  0.,  0.,  1.,  0.],\n",
       "        [-1.,  1.,  0.,  0.,  1.,  0.,  0.,  1.]])"
      ]
     },
     "execution_count": 62,
     "metadata": {},
     "output_type": "execute_result"
    }
   ],
   "source": [
    "G = np.append(A, A_aux, axis=1)\n",
    "G"
   ]
  },
  {
   "cell_type": "code",
   "execution_count": 92,
   "metadata": {},
   "outputs": [
    {
     "data": {
      "text/plain": [
       "(3, 8)"
      ]
     },
     "execution_count": 92,
     "metadata": {},
     "output_type": "execute_result"
    }
   ],
   "source": [
    "G.shape"
   ]
  },
  {
   "cell_type": "code",
   "execution_count": 94,
   "metadata": {},
   "outputs": [
    {
     "data": {
      "text/plain": [
       "5"
      ]
     },
     "execution_count": 94,
     "metadata": {},
     "output_type": "execute_result"
    }
   ],
   "source": [
    "i = A.shape[1]\n",
    "i"
   ]
  },
  {
   "cell_type": "code",
   "execution_count": 63,
   "metadata": {},
   "outputs": [],
   "source": [
    "b = np.array([6,10,4]).reshape(3,1)"
   ]
  },
  {
   "cell_type": "code",
   "execution_count": 64,
   "metadata": {},
   "outputs": [
    {
     "data": {
      "text/plain": [
       "array([[ 6],\n",
       "       [10],\n",
       "       [ 4]])"
      ]
     },
     "execution_count": 64,
     "metadata": {},
     "output_type": "execute_result"
    }
   ],
   "source": [
    "b"
   ]
  },
  {
   "cell_type": "code",
   "execution_count": 66,
   "metadata": {},
   "outputs": [
    {
     "data": {
      "text/plain": [
       "(3, 8)"
      ]
     },
     "execution_count": 66,
     "metadata": {},
     "output_type": "execute_result"
    }
   ],
   "source": [
    "G.shape"
   ]
  },
  {
   "cell_type": "code",
   "execution_count": 73,
   "metadata": {},
   "outputs": [],
   "source": [
    "U,s,V = np.linalg.svd(G)"
   ]
  },
  {
   "cell_type": "code",
   "execution_count": 75,
   "metadata": {},
   "outputs": [],
   "source": [
    "pinv = np.linalg.pinv(G)"
   ]
  },
  {
   "cell_type": "code",
   "execution_count": 78,
   "metadata": {},
   "outputs": [
    {
     "data": {
      "text/plain": [
       "matrix([[1.94444444],\n",
       "        [3.22222222],\n",
       "        [0.41666667],\n",
       "        [1.44444444],\n",
       "        [1.36111111],\n",
       "        [0.41666667],\n",
       "        [1.44444444],\n",
       "        [1.36111111]])"
      ]
     },
     "execution_count": 78,
     "metadata": {},
     "output_type": "execute_result"
    }
   ],
   "source": [
    "y = np.dot(pinv, b)\n",
    "y"
   ]
  },
  {
   "cell_type": "code",
   "execution_count": 81,
   "metadata": {},
   "outputs": [
    {
     "data": {
      "text/plain": [
       "matrix([[ 6.],\n",
       "        [10.],\n",
       "        [ 4.]])"
      ]
     },
     "execution_count": 81,
     "metadata": {},
     "output_type": "execute_result"
    }
   ],
   "source": [
    "np.dot(G, y)"
   ]
  },
  {
   "cell_type": "code",
   "execution_count": 90,
   "metadata": {},
   "outputs": [
    {
     "data": {
      "text/plain": [
       "matrix([[1., 0., 0.],\n",
       "        [0., 1., 0.],\n",
       "        [0., 0., 1.]])"
      ]
     },
     "execution_count": 90,
     "metadata": {},
     "output_type": "execute_result"
    }
   ],
   "source": [
    "G[:, i:]"
   ]
  },
  {
   "cell_type": "code",
   "execution_count": 99,
   "metadata": {},
   "outputs": [
    {
     "data": {
      "text/plain": [
       "(array([0, 1, 3, 4]), array([0, 0, 0, 0]))"
      ]
     },
     "execution_count": 99,
     "metadata": {},
     "output_type": "execute_result"
    }
   ],
   "source": [
    "np.where(y[:i] > 1)"
   ]
  },
  {
   "cell_type": "code",
   "execution_count": 100,
   "metadata": {},
   "outputs": [
    {
     "data": {
      "text/plain": [
       "matrix([[1.94444444],\n",
       "        [3.22222222],\n",
       "        [0.41666667],\n",
       "        [1.44444444],\n",
       "        [1.36111111]])"
      ]
     },
     "execution_count": 100,
     "metadata": {},
     "output_type": "execute_result"
    }
   ],
   "source": [
    "y[:i]"
   ]
  },
  {
   "cell_type": "code",
   "execution_count": null,
   "metadata": {},
   "outputs": [],
   "source": []
  }
 ],
 "metadata": {
  "kernelspec": {
   "display_name": "Python 3",
   "language": "python",
   "name": "python3"
  },
  "language_info": {
   "codemirror_mode": {
    "name": "ipython",
    "version": 3
   },
   "file_extension": ".py",
   "mimetype": "text/x-python",
   "name": "python",
   "nbconvert_exporter": "python",
   "pygments_lexer": "ipython3",
   "version": "3.6.5"
  }
 },
 "nbformat": 4,
 "nbformat_minor": 2
}
