{
 "cells": [
  {
   "cell_type": "code",
   "execution_count": 301,
   "metadata": {},
   "outputs": [],
   "source": [
    "import numpy as np\n",
    "from numpy.linalg import inv\n",
    "\n",
    "# class LinearProgram():\n",
    "\n",
    "#     def __init__(self):\n",
    "#         self.restrictions = np.nan\n",
    "#         self.costs = np.nan\n",
    "#         self.independent_cost = 0\n",
    "#         self.result = np.nan\n",
    "#         self.basis = np.nan\n",
    "#         self.operator = max\n",
    "\n",
    "#     # Provar que o problema é factível! (E achar a base)\n",
    "#     def find_basis(self):\n",
    "\n",
    "#         #print(\"\\nCalculando uma base para o PL...\")\n",
    "#         #self.base = np.where(self.costs == 0)[0]\n",
    "#         pass\n",
    "\n",
    "class Simplex:\n",
    "\n",
    "    \"\"\"\n",
    "    Instancia o metodo Simplex.\n",
    "\n",
    "    Parameters\n",
    "    ----------\n",
    "    PL : class LinearProgram\n",
    "        Problema linear definido pela classe LinearProgram\n",
    "\n",
    "    Return\n",
    "    ------\n",
    "    x : np.array\n",
    "        Solucao otima do PL (nx1).\n",
    "    \"\"\"\n",
    "    def __init__(self, A, c, b, maximum=True, w=0, B=np.nan):\n",
    "\n",
    "        self.A = A\n",
    "        self.c = c\n",
    "        self.b = b\n",
    "        self.w = w\n",
    "        \n",
    "        if type(B) == np.ndarray:\n",
    "            self.B = B\n",
    "            self.N = list(set(range(self.A.shape[1])) - set(self.B))\n",
    "            \n",
    "        if maximum:\n",
    "            self.operator = max\n",
    "        else:\n",
    "            self.operator = min\n",
    "\n",
    "    def find_basis(self):\n",
    "\n",
    "        # Criamos n novas variáveis\n",
    "        n = A.shape[0]\n",
    "        A_aux = np.identity(n)\n",
    "        c = np.ones(n)\n",
    "\n",
    "        # calculaamos com as novas variáveis referentes à base?\n",
    "        #self.calculate()\n",
    "    \n",
    "    def canonical_form(self):\n",
    "\n",
    "        # 1. A_B deve ser a matriz identidade\n",
    "        # 2. c_B = 0\n",
    "        \n",
    "        if self.c[self.B].any() != 0 or (self.A[:, self.B] != np.identity(len(self.B))).any():\n",
    "            self.y = np.linalg.inv(self.A[:, B].T).dot(self.c[B])\n",
    "            print(self.c)\n",
    "            self.c = self.c.T - self.y.dot(self.A)\n",
    "            print(self.c)\n",
    "            self.w = self.w + self.y.dot(self.b)\n",
    "            self.A = np.linalg.inv(self.A[:, B]).dot(self.A)\n",
    "            print(\">> Problema canonizado! Indo para (2)...\")\n",
    "            \n",
    "        else:\n",
    "            print(\">> Problema ja na forma canonica! Indo para (2)...\")\n",
    "    \n",
    "    def step(self):\n",
    "        \n",
    "        x = np.zeros(A.shape[1])\n",
    "        x[B] = np.linalg.solve(A[:, B], b).T\n",
    "        \n",
    "        var_basicas = self.c[x > 0]\n",
    "        var_nao_basicas = self.c[x == 0]\n",
    "        \n",
    "        # Encontrar tamanho do passo\n",
    "        rows = self.b.shape[0]\n",
    "        \n",
    "        t_set = np.array([self.b[i]/self.A[i, self.k] for i in range(rows)])\n",
    "        t = t_set[t_set > 0] # t > 0\n",
    "        \n",
    "        if self.operator:\n",
    "            t = min(t) # problema de maximizacao\n",
    "        else:\n",
    "            t = max(t) # problema de minimizacao\n",
    "            \n",
    "        self.r = np.where(t_set == t)[0][0]\n",
    "\n",
    "        # Dar o passo escolhido\n",
    "        x_aux = self.b - t*self.A[:, self.k]\n",
    "\n",
    "        x = np.zeros((var_nao_basicas.shape[0], 1))\n",
    "        x[self.k, 0] = t\n",
    "        self.x = np.concatenate((x, x_aux))\n",
    "        print('>> x == {}'.format(self.x))\n",
    "\n",
    "    def calculate(self):\n",
    "\n",
    "        print(\">>> Iniciando Simplex!\")\n",
    "\n",
    "        while self.c[self.N].any() > 0:\n",
    "            \n",
    "            print(\"1. Reescrevendo o PL na forma canonica para a base B...\\n\")\n",
    "            self.canonical_form()\n",
    "            \n",
    "            print(\"\\n2. Teste de otimalidade (c_N <= 0):\")\n",
    "            print(\">> c_N == {}\".format(self.c[self.N]))\n",
    "\n",
    "            print(\"\\n3. Seleciona k em N tal que c[k] > 0...\")\n",
    "            # self.k = np.argmax(self.c)\n",
    "            self.k = self.c.nonzero()[0][0] # primeiro valor não nulo\n",
    "            print(\">> k == {}\".format(self.k))\n",
    "\n",
    "            print(\"\\n4. Teste de unboundness (A[:,k] <= 0):\")\n",
    "            if self.A[:, self.k].any() <= 0:\n",
    "                (\">>> Processo terminado!\")\n",
    "                return x\n",
    "            print(\">> A[:,k] == {}\".format(self.A[:, self.k]))\n",
    "            \n",
    "            print(\"\\n5. Passo Simplex...\")\n",
    "            self.step()\n",
    "\n",
    "            print(\"\\n6. Atualizando a base...\")\n",
    "            self.B = np.append(self.B, self.k)\n",
    "            self.B = np.delete(self.B, self.r)\n",
    "            \n",
    "            self.N = list(set(range(self.A.shape[1])) - set(self.B))\n",
    "            print(\">> B == {}\\n\".format(self.B))\n",
    "\n",
    "        print(\"Processo terminado!\")\n",
    "        return x"
   ]
  },
  {
   "cell_type": "code",
   "execution_count": 302,
   "metadata": {},
   "outputs": [
    {
     "name": "stdout",
     "output_type": "stream",
     "text": [
      ">>> Iniciando Simplex!\n",
      "1. Reescrevendo o PL na forma canonica para a base B...\n",
      "\n",
      ">> Problema ja na forma canonica! Indo para (2)...\n",
      "\n",
      "2. Teste de otimalidade (c_N <= 0):\n",
      ">> c_N == [2 3]\n",
      "\n",
      "3. Seleciona k em N tal que c[k] > 0...\n",
      ">> k == 0\n",
      "\n",
      "4. Teste de unboundness (A[:,k] <= 0):\n",
      ">> A[:,k] == [[ 1]\n",
      " [ 2]\n",
      " [-1]]\n",
      "\n",
      "5. Passo Simplex...\n",
      ">> x == [[5.]\n",
      " [0.]\n",
      " [1.]\n",
      " [0.]\n",
      " [9.]]\n",
      "\n",
      "6. Atualizando a base...\n",
      ">> B == [2 4 0]\n",
      "\n",
      "1. Reescrevendo o PL na forma canonica para a base B...\n",
      "\n",
      "[2 3 0 0 0]\n",
      "[[2. 3. 0. 0. 0.]]\n",
      ">> Problema canonizado! Indo para (2)...\n",
      "\n",
      "2. Teste de otimalidade (c_N <= 0):\n"
     ]
    },
    {
     "ename": "IndexError",
     "evalue": "index 1 is out of bounds for axis 0 with size 1",
     "output_type": "error",
     "traceback": [
      "\u001b[0;31m---------------------------------------------------------------------------\u001b[0m",
      "\u001b[0;31mIndexError\u001b[0m                                Traceback (most recent call last)",
      "\u001b[0;32m<ipython-input-302-2934b67aadb2>\u001b[0m in \u001b[0;36m<module>\u001b[0;34m\u001b[0m\n\u001b[1;32m      7\u001b[0m \u001b[0mx\u001b[0m \u001b[0;34m=\u001b[0m \u001b[0mSimplex\u001b[0m\u001b[0;34m(\u001b[0m\u001b[0mA\u001b[0m\u001b[0;34m,\u001b[0m \u001b[0mc\u001b[0m\u001b[0;34m,\u001b[0m \u001b[0mb\u001b[0m\u001b[0;34m,\u001b[0m \u001b[0mB\u001b[0m\u001b[0;34m=\u001b[0m\u001b[0mB\u001b[0m\u001b[0;34m)\u001b[0m\u001b[0;34m\u001b[0m\u001b[0;34m\u001b[0m\u001b[0m\n\u001b[1;32m      8\u001b[0m \u001b[0;31m#x.find_basis()\u001b[0m\u001b[0;34m\u001b[0m\u001b[0;34m\u001b[0m\u001b[0;34m\u001b[0m\u001b[0m\n\u001b[0;32m----> 9\u001b[0;31m \u001b[0mx\u001b[0m\u001b[0;34m.\u001b[0m\u001b[0mcalculate\u001b[0m\u001b[0;34m(\u001b[0m\u001b[0;34m)\u001b[0m\u001b[0;34m\u001b[0m\u001b[0;34m\u001b[0m\u001b[0m\n\u001b[0m",
      "\u001b[0;32m<ipython-input-301-b73b9f5d135e>\u001b[0m in \u001b[0;36mcalculate\u001b[0;34m(self)\u001b[0m\n\u001b[1;32m    116\u001b[0m \u001b[0;34m\u001b[0m\u001b[0m\n\u001b[1;32m    117\u001b[0m             \u001b[0mprint\u001b[0m\u001b[0;34m(\u001b[0m\u001b[0;34m\"\\n2. Teste de otimalidade (c_N <= 0):\"\u001b[0m\u001b[0;34m)\u001b[0m\u001b[0;34m\u001b[0m\u001b[0;34m\u001b[0m\u001b[0m\n\u001b[0;32m--> 118\u001b[0;31m             \u001b[0mprint\u001b[0m\u001b[0;34m(\u001b[0m\u001b[0;34m\">> c_N == {}\"\u001b[0m\u001b[0;34m.\u001b[0m\u001b[0mformat\u001b[0m\u001b[0;34m(\u001b[0m\u001b[0mself\u001b[0m\u001b[0;34m.\u001b[0m\u001b[0mc\u001b[0m\u001b[0;34m[\u001b[0m\u001b[0mself\u001b[0m\u001b[0;34m.\u001b[0m\u001b[0mN\u001b[0m\u001b[0;34m]\u001b[0m\u001b[0;34m)\u001b[0m\u001b[0;34m)\u001b[0m\u001b[0;34m\u001b[0m\u001b[0;34m\u001b[0m\u001b[0m\n\u001b[0m\u001b[1;32m    119\u001b[0m \u001b[0;34m\u001b[0m\u001b[0m\n\u001b[1;32m    120\u001b[0m             \u001b[0mprint\u001b[0m\u001b[0;34m(\u001b[0m\u001b[0;34m\"\\n3. Seleciona k em N tal que c[k] > 0...\"\u001b[0m\u001b[0;34m)\u001b[0m\u001b[0;34m\u001b[0m\u001b[0;34m\u001b[0m\u001b[0m\n",
      "\u001b[0;32m/usr/local/lib/python3.7/site-packages/numpy/matrixlib/defmatrix.py\u001b[0m in \u001b[0;36m__getitem__\u001b[0;34m(self, index)\u001b[0m\n\u001b[1;32m    188\u001b[0m \u001b[0;34m\u001b[0m\u001b[0m\n\u001b[1;32m    189\u001b[0m         \u001b[0;32mtry\u001b[0m\u001b[0;34m:\u001b[0m\u001b[0;34m\u001b[0m\u001b[0;34m\u001b[0m\u001b[0m\n\u001b[0;32m--> 190\u001b[0;31m             \u001b[0mout\u001b[0m \u001b[0;34m=\u001b[0m \u001b[0mN\u001b[0m\u001b[0;34m.\u001b[0m\u001b[0mndarray\u001b[0m\u001b[0;34m.\u001b[0m\u001b[0m__getitem__\u001b[0m\u001b[0;34m(\u001b[0m\u001b[0mself\u001b[0m\u001b[0;34m,\u001b[0m \u001b[0mindex\u001b[0m\u001b[0;34m)\u001b[0m\u001b[0;34m\u001b[0m\u001b[0;34m\u001b[0m\u001b[0m\n\u001b[0m\u001b[1;32m    191\u001b[0m         \u001b[0;32mfinally\u001b[0m\u001b[0;34m:\u001b[0m\u001b[0;34m\u001b[0m\u001b[0;34m\u001b[0m\u001b[0m\n\u001b[1;32m    192\u001b[0m             \u001b[0mself\u001b[0m\u001b[0;34m.\u001b[0m\u001b[0m_getitem\u001b[0m \u001b[0;34m=\u001b[0m \u001b[0;32mFalse\u001b[0m\u001b[0;34m\u001b[0m\u001b[0;34m\u001b[0m\u001b[0m\n",
      "\u001b[0;31mIndexError\u001b[0m: index 1 is out of bounds for axis 0 with size 1"
     ]
    }
   ],
   "source": [
    "# Formato do PL: max{z = cx + w : Ax = b, x >= 0}\n",
    "A = np.matrix([[1,1,1,0,0], [2,1,0,1,0], [-1,1,0,0,1]])\n",
    "c = np.array([2,3,0,0,0])\n",
    "b = np.array([6,10,4]).reshape(3,1)\n",
    "B = np.array([2,3,4])\n",
    "\n",
    "x = Simplex(A, c, b, B=B)\n",
    "#x.find_basis()\n",
    "x.calculate()"
   ]
  },
  {
   "cell_type": "code",
   "execution_count": 210,
   "metadata": {},
   "outputs": [
    {
     "data": {
      "text/plain": [
       "1"
      ]
     },
     "execution_count": 210,
     "metadata": {},
     "output_type": "execute_result"
    }
   ],
   "source": [
    "np.where(c == 3)[0][0]"
   ]
  },
  {
   "cell_type": "code",
   "execution_count": 241,
   "metadata": {},
   "outputs": [
    {
     "data": {
      "text/plain": [
       "3"
      ]
     },
     "execution_count": 241,
     "metadata": {},
     "output_type": "execute_result"
    }
   ],
   "source": [
    "c[1]"
   ]
  },
  {
   "cell_type": "code",
   "execution_count": 259,
   "metadata": {},
   "outputs": [
    {
     "data": {
      "text/plain": [
       "array([2, 3, 4, 0])"
      ]
     },
     "execution_count": 259,
     "metadata": {},
     "output_type": "execute_result"
    }
   ],
   "source": [
    "np.append(B, 0)"
   ]
  },
  {
   "cell_type": "code",
   "execution_count": 248,
   "metadata": {},
   "outputs": [
    {
     "data": {
      "text/plain": [
       "array([2, 4])"
      ]
     },
     "execution_count": 248,
     "metadata": {},
     "output_type": "execute_result"
    }
   ],
   "source": [
    "np.delete(B, 1)"
   ]
  },
  {
   "cell_type": "code",
   "execution_count": null,
   "metadata": {},
   "outputs": [],
   "source": []
  }
 ],
 "metadata": {
  "kernelspec": {
   "display_name": "Python 3",
   "language": "python",
   "name": "python3"
  },
  "language_info": {
   "codemirror_mode": {
    "name": "ipython",
    "version": 3
   },
   "file_extension": ".py",
   "mimetype": "text/x-python",
   "name": "python",
   "nbconvert_exporter": "python",
   "pygments_lexer": "ipython3",
   "version": "3.7.2"
  }
 },
 "nbformat": 4,
 "nbformat_minor": 2
}
