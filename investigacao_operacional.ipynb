{
 "cells": [
  {
   "cell_type": "markdown",
   "metadata": {},
   "source": [
    "## Investigação Operacional\n",
    "---\n",
    "\n",
    "### TOC\n",
    "- [Exercícios de Investigação Operacional](#1a): Problema 3 e Problema 5\n",
    "- [O Caso Rio Negro](#1b)"
   ]
  },
  {
   "cell_type": "code",
   "execution_count": 3,
   "metadata": {},
   "outputs": [],
   "source": [
    "using JuMP\n",
    "using Cbc\n",
    "using NamedArrays"
   ]
  },
  {
   "cell_type": "markdown",
   "metadata": {},
   "source": [
    "<a id='1b'></a>\n",
    "### Exercícios de Investigação Operacional\n",
    "---\n",
    "\n",
    "**Problema 3:**\n",
    "Um produto em fabrico resulta duma montagem constituída por duas peças, A e B. Para a elaboração dessas peças recorre-se a uma máquina M1 e a cinco máquinas M2. A produtividade de cada máquina relativamente às duas peças é a indicada na tabela 1:"
   ]
  },
  {
   "cell_type": "code",
   "execution_count": 4,
   "metadata": {},
   "outputs": [
    {
     "data": {
      "text/plain": [
       "2×2 Named Array{Int64,2}\n",
       "Peça ╲ Máquina │ :M1  :M2\n",
       "───────────────┼─────────\n",
       ":A             │   3   20\n",
       ":B             │   5   15"
      ]
     },
     "execution_count": 4,
     "metadata": {},
     "output_type": "execute_result"
    }
   ],
   "source": [
    "# Tempo de produção (em minutos por peça) das peças A e B nas máquinas M1 e M2\n",
    "tabela1 = NamedArray([3 20; 5 15], ([:A, :B], [:M1, :M2]), (:Peça, :Máquina))"
   ]
  },
  {
   "cell_type": "markdown",
   "metadata": {},
   "source": [
    "A carga das máquinas M2 é repartida igualmente pelas 5 máquinas. O objectivo do problema é saber como se pode obter o máximo de montagens completas por dia. Considere que um dia corresponde a 8 horas de trabalho.\n",
    "\n",
    "\n",
    "(a) Apresente um modelo matemático para este problema.\n",
    "\n",
    "**R:** Iniciamos o modelo com 4 variáveis:\n",
    "\n",
    "$x_{11}$ - peças A produzidas por M1\n",
    "\n",
    "$x_{12}$ - peças B produzidas por M1\n",
    "\n",
    "$x_{21}$ - peças A produzidas por M2\n",
    "\n",
    "$x_{22}$ - peças B produzidas por M2"
   ]
  },
  {
   "cell_type": "code",
   "execution_count": 5,
   "metadata": {},
   "outputs": [
    {
     "data": {
      "text/latex": [
       "$$ \\begin{alignat*}{1}\\min\\quad & 0\\\\\n",
       "\\text{Subject to} \\quad\\end{alignat*}\n",
       " $$"
      ],
      "text/plain": [
       "Feasibility problem with:\n",
       " * 0 linear constraints\n",
       " * 0 variables\n",
       "Solver is CbcMathProg"
      ]
     },
     "execution_count": 5,
     "metadata": {},
     "output_type": "execute_result"
    }
   ],
   "source": [
    "prob3 = Model(solver=CbcSolver())"
   ]
  },
  {
   "cell_type": "code",
   "execution_count": 6,
   "metadata": {},
   "outputs": [
    {
     "data": {
      "text/latex": [
       "$$ x_{i,j} \\geq 0 \\quad\\forall i \\in \\{1,2\\}, j \\in \\{1,2\\} $$"
      ],
      "text/plain": [
       "2×2 Array{JuMP.Variable,2}:\n",
       " x[1,1]  x[1,2]\n",
       " x[2,1]  x[2,2]"
      ]
     },
     "execution_count": 6,
     "metadata": {},
     "output_type": "execute_result"
    }
   ],
   "source": [
    "@variable(prob3, x[1:2, 1:2] >=0)"
   ]
  },
  {
   "cell_type": "code",
   "execution_count": 7,
   "metadata": {},
   "outputs": [
    {
     "data": {
      "text/latex": [
       "$$ 3 x_{1,1} + 5 x_{1,2} \\leq 480 $$"
      ],
      "text/plain": [
       "3 x[1,1] + 5 x[1,2] ≤ 480"
      ]
     },
     "execution_count": 7,
     "metadata": {},
     "output_type": "execute_result"
    }
   ],
   "source": [
    "horas = 8*60\n",
    "@constraint(prob3, tempo_m1, sum(tabela1[:, :M1][l]*x[1, l] for l in 1:2) <= horas)"
   ]
  },
  {
   "cell_type": "code",
   "execution_count": 8,
   "metadata": {},
   "outputs": [
    {
     "data": {
      "text/latex": [
       "$$ 20 x_{2,1} + 15 x_{2,2} \\leq 2400 $$"
      ],
      "text/plain": [
       "20 x[2,1] + 15 x[2,2] ≤ 2400"
      ]
     },
     "execution_count": 8,
     "metadata": {},
     "output_type": "execute_result"
    }
   ],
   "source": [
    "horas = 8*60\n",
    "@constraint(prob3, tempo_m2, sum(tabela1[:, :M2][l]*x[2, l] for l in 1:2) <= horas*5)"
   ]
  },
  {
   "cell_type": "markdown",
   "metadata": {},
   "source": [
    "Como uma montgem completa é composta por uma peça do tipo A e outra do tipo B, nosso objetivo é:\n",
    "        \n",
    "$max (Z = min(x_{11} + x_{12}, x_{21} + x_{22}))$\n",
    "\n",
    "Que vamos linearizar criando uma nova variável $Y = min$, e as restrições relativas à produção de M1 e M2 (que devem ser maiores que o mínimo):\n",
    "\n",
    "$max Z = Y$\n",
    "\n",
    "$\\mbox{suj. a } x_{11} + x_{12} - Y > 0$\n",
    "\n",
    "$\\mbox{suj. a } x_{21} + x_{22} - Y > 0$"
   ]
  },
  {
   "cell_type": "code",
   "execution_count": 9,
   "metadata": {},
   "outputs": [
    {
     "data": {
      "text/latex": [
       "$$ y $$"
      ],
      "text/plain": [
       "y"
      ]
     },
     "execution_count": 9,
     "metadata": {},
     "output_type": "execute_result"
    }
   ],
   "source": [
    "@variable(prob3, y >=0)"
   ]
  },
  {
   "cell_type": "code",
   "execution_count": 10,
   "metadata": {},
   "outputs": [
    {
     "data": {
      "text/latex": [
       "$$ y $$"
      ],
      "text/plain": [
       "y"
      ]
     },
     "execution_count": 10,
     "metadata": {},
     "output_type": "execute_result"
    }
   ],
   "source": [
    "@objective(prob3, Max, y)"
   ]
  },
  {
   "cell_type": "code",
   "execution_count": 11,
   "metadata": {},
   "outputs": [
    {
     "data": {
      "text/latex": [
       "$$ x_{1,1} + x_{1,2} - y \\geq 0 $$"
      ],
      "text/plain": [
       "x[1,1] + x[1,2] - y ≥ 0"
      ]
     },
     "execution_count": 11,
     "metadata": {},
     "output_type": "execute_result"
    }
   ],
   "source": [
    "@constraint(prob3, min_m1, sum(x[1, l] for l in 1:2) - y >= 0)"
   ]
  },
  {
   "cell_type": "code",
   "execution_count": 12,
   "metadata": {},
   "outputs": [
    {
     "data": {
      "text/latex": [
       "$$ x_{2,1} + x_{2,2} - y \\geq 0 $$"
      ],
      "text/plain": [
       "x[2,1] + x[2,2] - y ≥ 0"
      ]
     },
     "execution_count": 12,
     "metadata": {},
     "output_type": "execute_result"
    }
   ],
   "source": [
    "@constraint(prob3, min_m2, sum(x[2, l] for l in 1:2) - y >= 0)"
   ]
  },
  {
   "cell_type": "code",
   "execution_count": 13,
   "metadata": {},
   "outputs": [
    {
     "name": "stdout",
     "output_type": "stream",
     "text": [
      "  2.713850 seconds (1.62 M allocations: 84.941 MiB, 1.16% gc time)\n"
     ]
    },
    {
     "data": {
      "text/plain": [
       ":Optimal"
      ]
     },
     "execution_count": 13,
     "metadata": {},
     "output_type": "execute_result"
    }
   ],
   "source": [
    "@time solve(prob3)"
   ]
  },
  {
   "cell_type": "code",
   "execution_count": 14,
   "metadata": {},
   "outputs": [
    {
     "data": {
      "text/plain": [
       "2×2 Array{Float64,2}:\n",
       " 160.0    0.0\n",
       "   0.0  160.0"
      ]
     },
     "execution_count": 14,
     "metadata": {},
     "output_type": "execute_result"
    }
   ],
   "source": [
    "getvalue(x)"
   ]
  },
  {
   "cell_type": "code",
   "execution_count": 15,
   "metadata": {},
   "outputs": [
    {
     "data": {
      "text/html": [
       "160.0"
      ],
      "text/plain": [
       "160.0"
      ]
     },
     "execution_count": 15,
     "metadata": {},
     "output_type": "execute_result"
    }
   ],
   "source": [
    "getobjectivevalue(prob3)"
   ]
  },
  {
   "cell_type": "markdown",
   "metadata": {},
   "source": [
    "(b) Considere agora a situação em que também se pretende manter uma utilização equilibrada entre as máquinas de modo que nenhuma delas seja utilizada mais 30 minutos por dia do que qualquer outra das máquinas.\n",
    "Será possível resolver este novo problema por Programação Linear? Justifique."
   ]
  },
  {
   "cell_type": "markdown",
   "metadata": {},
   "source": [
    "**R:** Queremos que a diferença entre o tempo de A, $T_A = 3x_{1,1} + 5x_{1,2}$, e o tempo de cada máquina de B,  $T_B = \\frac{20x_{2,1} + 15x{2,2}}{5}$, não exceda 30 minutos. Podemos linearizar esse problema da seguinte forma:\n",
    "\n",
    "$|3x_{1,1} + 5x_{1,2} - (4x_{2,1} + 3x_{2,2})| \\leq 30 \\rightarrow 3x_{1,1} + 5x_{1,2} - (4x_{2,1} + 3x_{2,2}) \\leq 30\\mbox{ e }4x_{2,1} + 3x_{2,2} - (3x_{1,1} + 5x_{1,2}) \\geq 30$"
   ]
  },
  {
   "cell_type": "markdown",
   "metadata": {},
   "source": [
    "<a id='1b'></a>\n",
    "---\n",
    "\n",
    "**Problema 5:**\n",
    "\n",
    "Uma companhia de navegação possui um navio com 3 porões de carga (à proa, à ré e ao centro) possuindo os limites de capacidade apresentados na tabela 1:"
   ]
  },
  {
   "cell_type": "code",
   "execution_count": 16,
   "metadata": {},
   "outputs": [
    {
     "data": {
      "text/plain": [
       "3×2 Named Array{Int64,2}\n",
       "Porao ╲ x │ :Tonelagem     :Volume\n",
       "──────────┼───────────────────────\n",
       ":Proa     │       2000      100000\n",
       ":Centro   │       3200       14000\n",
       ":Re       │       1800       80000"
      ]
     },
     "execution_count": 16,
     "metadata": {},
     "output_type": "execute_result"
    }
   ],
   "source": [
    "tabela1 = NamedArray([2000 100000; 3200 14000; 1800 80000], \n",
    "                    ([:Proa, :Centro, :Re], \n",
    "                    [:Tonelagem, :Volume]), (:Porao, :x))"
   ]
  },
  {
   "cell_type": "markdown",
   "metadata": {},
   "source": [
    "À empresa são oferecidas as cargas da tabela 2, cada uma das quais pode ser aceite parcial ou totalmente:"
   ]
  },
  {
   "cell_type": "code",
   "execution_count": 17,
   "metadata": {},
   "outputs": [
    {
     "data": {
      "text/plain": [
       "3×3 Named Array{Int64,2}\n",
       "Carga ╲ x │   :Peso  :Volume   :Lucro\n",
       "──────────┼──────────────────────────\n",
       ":A        │    7000       60       20\n",
       ":B        │    6500       50       24\n",
       ":C        │    4000       25       16"
      ]
     },
     "execution_count": 17,
     "metadata": {},
     "output_type": "execute_result"
    }
   ],
   "source": [
    "tabela2 = NamedArray([7000 60 20; 6500 50 24; 4000 25 16], \n",
    "                    ([:A, :B, :C], \n",
    "                    [:Peso, :Volume, :Lucro]), (:Carga, :x))"
   ]
  },
  {
   "cell_type": "markdown",
   "metadata": {},
   "source": [
    "A fim de preservar o equilíbrio do navio, deve manter-se a proporção entre o peso em cada porão e o volume respectivo. Admita que em cada porão podem ser transportadas partes de cargas diferentes. Pretende-se maximizar o lucro da empresa, relativo à utilização deste navio. Construa um modelo de LP para o problema apresentado."
   ]
  },
  {
   "cell_type": "markdown",
   "metadata": {},
   "source": [
    "**R:** Iniciamos o modelo com 6 variáveis:\n",
    "\n",
    "$x_{i, j}$ - quantidade de toneladas de carga $i$ a ser transportada no porão $j$"
   ]
  },
  {
   "cell_type": "code",
   "execution_count": 18,
   "metadata": {
    "scrolled": true
   },
   "outputs": [
    {
     "data": {
      "text/latex": [
       "$$ \\begin{alignat*}{1}\\min\\quad & 0\\\\\n",
       "\\text{Subject to} \\quad\\end{alignat*}\n",
       " $$"
      ],
      "text/plain": [
       "Feasibility problem with:\n",
       " * 0 linear constraints\n",
       " * 0 variables\n",
       "Solver is CbcMathProg"
      ]
     },
     "execution_count": 18,
     "metadata": {},
     "output_type": "execute_result"
    }
   ],
   "source": [
    "prob5 = Model(solver=CbcSolver())"
   ]
  },
  {
   "cell_type": "code",
   "execution_count": 19,
   "metadata": {},
   "outputs": [
    {
     "data": {
      "text/html": [
       "3"
      ],
      "text/plain": [
       "3"
      ]
     },
     "execution_count": 19,
     "metadata": {},
     "output_type": "execute_result"
    }
   ],
   "source": [
    "packs = [:Proa :Centro :Re]\n",
    "segments = [:A :B :C]\n",
    "\n",
    "n_packs = size(packs)[2] # 3\n",
    "n_segments = size(segments)[2] # 3"
   ]
  },
  {
   "cell_type": "code",
   "execution_count": 20,
   "metadata": {},
   "outputs": [
    {
     "data": {
      "text/latex": [
       "$$ x_{i,j} \\geq 0 \\quad\\forall i \\in \\{1,2,3\\}, j \\in \\{1,2,3\\} $$"
      ],
      "text/plain": [
       "3×3 Array{JuMP.Variable,2}:\n",
       " x[1,1]  x[1,2]  x[1,3]\n",
       " x[2,1]  x[2,2]  x[2,3]\n",
       " x[3,1]  x[3,2]  x[3,3]"
      ]
     },
     "execution_count": 20,
     "metadata": {},
     "output_type": "execute_result"
    }
   ],
   "source": [
    "@variable(prob5, x[1:n_packs, 1:n_segments] >=0)"
   ]
  },
  {
   "cell_type": "code",
   "execution_count": 21,
   "metadata": {},
   "outputs": [
    {
     "data": {
      "text/latex": [
       "$$ 20 x_{1,1} + 20 x_{1,2} + 20 x_{1,3} + 24 x_{2,1} + 24 x_{2,2} + 24 x_{2,3} + 16 x_{3,1} + 16 x_{3,2} + 16 x_{3,3} $$"
      ],
      "text/plain": [
       "20 x[1,1] + 20 x[1,2] + 20 x[1,3] + 24 x[2,1] + 24 x[2,2] + 24 x[2,3] + 16 x[3,1] + 16 x[3,2] + 16 x[3,3]"
      ]
     },
     "execution_count": 21,
     "metadata": {},
     "output_type": "execute_result"
    }
   ],
   "source": [
    "@objective(prob5, Max, sum(tabela2[i, :Lucro] * sum(x[i, j] for j in 1:n_segments) for i in 1:n_packs))"
   ]
  },
  {
   "cell_type": "code",
   "execution_count": 22,
   "metadata": {},
   "outputs": [],
   "source": [
    "# Restrição de máximo de carga disponível\n",
    "for i in 1:n_packs\n",
    "    @constraint(prob5, sum(x[i,j] for j in 1:n_segments) <= tabela2[i, :Peso])\n",
    "end"
   ]
  },
  {
   "cell_type": "code",
   "execution_count": 23,
   "metadata": {},
   "outputs": [],
   "source": [
    "# Restrição de volume total em cada porão\n",
    "for j in 1:n_segments\n",
    "    @constraint(prob5, sum(x[i,j]*tabela2[i, :Volume] for i in 1:n_packs) <= tabela1[j, :Volume])\n",
    "end"
   ]
  },
  {
   "cell_type": "code",
   "execution_count": 24,
   "metadata": {},
   "outputs": [],
   "source": [
    "# Restrição de tonelagem total em cada porão\n",
    "for j in 1:n_segments\n",
    "    @constraint(prob5, sum(x[i,j] for i in 1:n_packs) <= tabela1[j, :Tonelagem])\n",
    "end"
   ]
  },
  {
   "cell_type": "markdown",
   "metadata": {},
   "source": [
    "Para manter a proporção de capacidade / volume no preenchimento dos porões, precisamos garantir, por exemplo:\n",
    "\n",
    "$\\frac{60x_{1,1} +􏰇 50x_{2,1} + 25x_{3,1}}{x_{1,1} +􏰇 x_{2,1} + x_{3,1}} = \\frac{100000}{2000} = 50$\n",
    "\n",
    "Esse é o caso para o porão `Proa`, indicado aqui como linha 1. Simplificando a expressão, ficamos com: $10x_{1,1} - 25x_{3, 1} = 0$.\n",
    "\n",
    "Fazendo o mesmo processo para os outros porões, temos:\n",
    "\n",
    "$178x_{1,2} + 146x_{2,2} + 66x_{3,2} = 0$\n",
    "\n",
    "$100x_{1,3} + 72x_{2, 3} + 37x_{3,3} = 0$."
   ]
  },
  {
   "cell_type": "code",
   "execution_count": 25,
   "metadata": {},
   "outputs": [
    {
     "data": {
      "text/latex": [
       "$$ 100 x_{1,3} + 72 x_{2,3} + 37 x_{3,3} = 0 $$"
      ],
      "text/plain": [
       "100 x[1,3] + 72 x[2,3] + 37 x[3,3] = 0"
      ]
     },
     "execution_count": 25,
     "metadata": {},
     "output_type": "execute_result"
    }
   ],
   "source": [
    "# Manutenção da proporção entre o volume e o peso total do porão\n",
    "@constraint(prob5, razao1, 10*x[1,1] - 25*x[3,1] == 0)\n",
    "@constraint(prob5, razao2, 178*x[1,2] + 146*x[2,2] + 66*x[3,2] == 0)\n",
    "@constraint(prob5, razao3, 100*x[1,3] + 72*x[2,3] + 37*x[3,3] == 0)"
   ]
  },
  {
   "cell_type": "code",
   "execution_count": 26,
   "metadata": {},
   "outputs": [
    {
     "data": {
      "text/latex": [
       "$$ \\begin{alignat*}{1}\\max\\quad & 20 x_{1,1} + 20 x_{1,2} + 20 x_{1,3} + 24 x_{2,1} + 24 x_{2,2} + 24 x_{2,3} + 16 x_{3,1} + 16 x_{3,2} + 16 x_{3,3}\\\\\n",
       "\\text{Subject to} \\quad & x_{1,1} + x_{1,2} + x_{1,3} \\leq 7000\\\\\n",
       " & x_{2,1} + x_{2,2} + x_{2,3} \\leq 6500\\\\\n",
       " & x_{3,1} + x_{3,2} + x_{3,3} \\leq 4000\\\\\n",
       " & 60 x_{1,1} + 50 x_{2,1} + 25 x_{3,1} \\leq 100000\\\\\n",
       " & 60 x_{1,2} + 50 x_{2,2} + 25 x_{3,2} \\leq 14000\\\\\n",
       " & 60 x_{1,3} + 50 x_{2,3} + 25 x_{3,3} \\leq 80000\\\\\n",
       " & x_{1,1} + x_{2,1} + x_{3,1} \\leq 2000\\\\\n",
       " & x_{1,2} + x_{2,2} + x_{3,2} \\leq 3200\\\\\n",
       " & x_{1,3} + x_{2,3} + x_{3,3} \\leq 1800\\\\\n",
       " & 10 x_{1,1} - 25 x_{3,1} = 0\\\\\n",
       " & 178 x_{1,2} + 146 x_{2,2} + 66 x_{3,2} = 0\\\\\n",
       " & 100 x_{1,3} + 72 x_{2,3} + 37 x_{3,3} = 0\\\\\n",
       " & x_{i,j} \\geq 0 \\quad\\forall i \\in \\{1,2,3\\}, j \\in \\{1,2,3\\}\\\\\n",
       "\\end{alignat*}\n",
       " $$"
      ],
      "text/plain": [
       "Maximization problem with:\n",
       " * 12 linear constraints\n",
       " * 9 variables\n",
       "Solver is CbcMathProg"
      ]
     },
     "execution_count": 26,
     "metadata": {},
     "output_type": "execute_result"
    }
   ],
   "source": [
    "prob5"
   ]
  },
  {
   "cell_type": "code",
   "execution_count": 27,
   "metadata": {},
   "outputs": [
    {
     "name": "stdout",
     "output_type": "stream",
     "text": [
      "  0.001283 seconds (79 allocations: 8.375 KiB)\n"
     ]
    },
    {
     "data": {
      "text/plain": [
       ":Optimal"
      ]
     },
     "execution_count": 27,
     "metadata": {},
     "output_type": "execute_result"
    }
   ],
   "source": [
    "@time solve(prob5)"
   ]
  },
  {
   "cell_type": "code",
   "execution_count": 28,
   "metadata": {},
   "outputs": [
    {
     "data": {
      "text/plain": [
       "3×3 Array{Float64,2}:\n",
       "    0.0  0.0  0.0\n",
       " 2000.0  0.0  0.0\n",
       "    0.0  0.0  0.0"
      ]
     },
     "execution_count": 28,
     "metadata": {},
     "output_type": "execute_result"
    }
   ],
   "source": [
    "getvalue(x)"
   ]
  },
  {
   "cell_type": "code",
   "execution_count": 29,
   "metadata": {},
   "outputs": [
    {
     "data": {
      "text/html": [
       "48000.0"
      ],
      "text/plain": [
       "48000.0"
      ]
     },
     "execution_count": 29,
     "metadata": {},
     "output_type": "execute_result"
    }
   ],
   "source": [
    "getobjectivevalue(prob5)"
   ]
  },
  {
   "cell_type": "markdown",
   "metadata": {},
   "source": [
    "<a id='1b'></a>\n",
    "### O Caso Rio Negro\n",
    "---\n",
    "\n",
    "Reprodução do caso descrito em *História e Metodologia da Investigação Operacional* (CARRAVILHA, M. A. - FEUP, 2001).\n",
    "\n",
    "Cada sessão nesse arquivo (e seu respectivo texto) é apresentada na apostila de referência. As sessões foram reordenadas de acordo com a lógica de formulação dos modelos.\n",
    "\n",
    "### TOC\n",
    "\n",
    "1. [Análise da situação da fábrica](#1)\n",
    "\n",
    "2. [Análise econômica da empresa](#2)\n",
    "3. [Quantificação da poluição](#3)\n",
    "\n",
    "Primeiro modelo:\n",
    "4. [Decisão do município: Limite de poluição](#4)\n",
    "\n",
    "Segundo modelo:\n",
    "5. [E se se construísse um sistema de tratamento das águas residuais?](#5)\n",
    "6. [Decisão do município: Sistema de tratamento + limite de poluição](#6)\n",
    "\n",
    "Solução adotada:\n",
    "7. [Solução do Eng. Luís Bela Vida](#7)"
   ]
  },
  {
   "cell_type": "markdown",
   "metadata": {},
   "source": [
    "<a id='1'></a>\n",
    "### Análise da situação da fábrica\n",
    "O complexo agro-industrial tem, basicamente, duas linhas de produtos, A e B, costumando produzir, por mês, 20 toneladas de A e 80 toneladas de B, respeitando-se assim a sua capacidade máxima total de produção mensal, que é de 100 toneladas/mês. O seu director diz, com orgulho, que há mais de 10 anos que adoptam esta solução."
   ]
  },
  {
   "cell_type": "code",
   "execution_count": 2,
   "metadata": {},
   "outputs": [
    {
     "data": {
      "text/latex": [
       "$$ \\begin{alignat*}{1}\\min\\quad & 0\\\\\n",
       "\\text{Subject to} \\quad\\end{alignat*}\n",
       " $$"
      ],
      "text/plain": [
       "Feasibility problem with:\n",
       " * 0 linear constraints\n",
       " * 0 variables\n",
       "Solver is CbcMathProg"
      ]
     },
     "execution_count": 2,
     "metadata": {},
     "output_type": "execute_result"
    }
   ],
   "source": [
    "modelo = Model(solver=CbcSolver())"
   ]
  },
  {
   "cell_type": "code",
   "execution_count": 3,
   "metadata": {},
   "outputs": [
    {
     "data": {
      "text/plain": [
       "2"
      ]
     },
     "execution_count": 3,
     "metadata": {},
     "output_type": "execute_result"
    }
   ],
   "source": [
    "L = 2 # linhas de producao: A e B"
   ]
  },
  {
   "cell_type": "code",
   "execution_count": 4,
   "metadata": {},
   "outputs": [
    {
     "data": {
      "text/latex": [
       "$$ x_{i} \\geq 0 \\quad\\forall i \\in \\{1,2\\} $$"
      ],
      "text/plain": [
       "2-element Array{JuMP.Variable,1}:\n",
       " x[1]\n",
       " x[2]"
      ]
     },
     "execution_count": 4,
     "metadata": {},
     "output_type": "execute_result"
    }
   ],
   "source": [
    "@variable(modelo, x[1:L] >=0)"
   ]
  },
  {
   "cell_type": "code",
   "execution_count": 5,
   "metadata": {},
   "outputs": [
    {
     "data": {
      "text/latex": [
       "$$ x_{1} + x_{2} \\leq 100 $$"
      ],
      "text/plain": [
       "x[1] + x[2] ≤ 100"
      ]
     },
     "execution_count": 5,
     "metadata": {},
     "output_type": "execute_result"
    }
   ],
   "source": [
    "max_producao = 100\n",
    "@constraint(modelo, producao, sum(x[l] for l = 1:L) <= max_producao)"
   ]
  },
  {
   "cell_type": "markdown",
   "metadata": {},
   "source": [
    "<a id=2></a>\n",
    "### Análise econômica da empresa\n",
    "Identificação dos lucros relativos às duas linhas de produção (difícil dado o deficiente sistema contabilístico da Superterra):\n",
    "\n",
    "- Existe uma despesa de 280000 contos/mês mesmo que não haja produção;\n",
    "- Sem contar com esse encargo, o lucro obtido por tonelada de A e B é de 2000 e 4000 contos, respectivamente;\n",
    "- Dada a sólida posição da empresa no mercado, as actuais produções, ou mesmo produções superiores, são facilmente escoadas para o mercado."
   ]
  },
  {
   "cell_type": "code",
   "execution_count": 6,
   "metadata": {},
   "outputs": [
    {
     "data": {
      "text/plain": [
       "280000"
      ]
     },
     "execution_count": 6,
     "metadata": {},
     "output_type": "execute_result"
    }
   ],
   "source": [
    "lucro = [2000 4000]\n",
    "despesa = 280000"
   ]
  },
  {
   "cell_type": "code",
   "execution_count": 7,
   "metadata": {},
   "outputs": [
    {
     "data": {
      "text/latex": [
       "$$ 2000 x_{1} + 4000 x_{2} - 280000 $$"
      ],
      "text/plain": [
       "2000 x[1] + 4000 x[2] - 280000"
      ]
     },
     "execution_count": 7,
     "metadata": {},
     "output_type": "execute_result"
    }
   ],
   "source": [
    "@objective(modelo, Max, sum(lucro[l]*x[l] for l in 1:L) - despesa)"
   ]
  },
  {
   "cell_type": "code",
   "execution_count": 8,
   "metadata": {},
   "outputs": [
    {
     "data": {
      "text/plain": [
       "80000"
      ]
     },
     "execution_count": 8,
     "metadata": {},
     "output_type": "execute_result"
    }
   ],
   "source": [
    "# Lucro atual: 20t A, 80t B\n",
    "20*lucro[1] + 80*lucro[2] - 280000"
   ]
  },
  {
   "cell_type": "markdown",
   "metadata": {},
   "source": [
    "<a id=3></a>\n",
    "### Quantificação da poluição\n",
    "Indicador da presença de matéria orgânica — CBO5\n",
    "\n",
    "- Durante o Verão a capacidade de recepção do rio não ultrapassa os 210 mg/l de CBO5 no caudal de águas residuais.\n",
    "- A análise do sistema de produção permitiu concluir que cada tonelada produzida de A é responsável por uma carga de 0.7 mg/l de CBO5, e cada tonelada de B, por 3.5 mg/l.\n",
    "- O caudal residual não depende das quantidades produzidas de cada tipo de produto."
   ]
  },
  {
   "cell_type": "code",
   "execution_count": 9,
   "metadata": {},
   "outputs": [
    {
     "data": {
      "text/plain": [
       "1×2 Array{Float64,2}:\n",
       " 0.7  3.5"
      ]
     },
     "execution_count": 9,
     "metadata": {},
     "output_type": "execute_result"
    }
   ],
   "source": [
    "cbo5 = [0.7 3.5]"
   ]
  },
  {
   "cell_type": "markdown",
   "metadata": {},
   "source": [
    "<a id=4></a>\n",
    "### Decisão do município: Limite de poluição\n",
    "\n",
    "**Obrigar a empresa a respeitar o limite de 210 mg/l** ⇒ redução das produções, pois: \n",
    "\n",
    "20 × 0.7 + 80 × 3.5 = 294 > 210\n",
    "\n",
    "Para tal sugeriu que a empresa produzisse na mesma proporção de 1 para 4 (produtos A e B) mas em quantidades tais que o limite de 210 mg/l fosse respeitado, isto é:\n",
    "\n",
    "0.7x + 3.5 × 4x = 210 ⇔ x = 14.3 ⇔ A → 14.3 ton/mês ∧ B → 57.2 ton/mês \n",
    "\n",
    "O que daria um lucro de:\n",
    "L = 2000 × 14.3 + 4000 × 57.2 − 280000 = −22600 contos/mês\n",
    "\n",
    "A empresa rejeitou esta solução pois daria prejuízo. \n",
    "\n",
    "*Vamos modelar abaixo a solução ótima para esse cenário, sem a limitaç˜:*"
   ]
  },
  {
   "cell_type": "code",
   "execution_count": 10,
   "metadata": {
    "scrolled": true
   },
   "outputs": [
    {
     "data": {
      "text/latex": [
       "$$ 0.7 x_{1} + 3.5 x_{2} \\leq 210 $$"
      ],
      "text/plain": [
       "0.7 x[1] + 3.5 x[2] ≤ 210"
      ]
     },
     "execution_count": 10,
     "metadata": {},
     "output_type": "execute_result"
    }
   ],
   "source": [
    "max_cbo5 = 210\n",
    "@constraint(modelo, cbo5, sum(x[l]*cbo5[l] for l = 1:L) <= max_cbo5)"
   ]
  },
  {
   "cell_type": "code",
   "execution_count": 11,
   "metadata": {},
   "outputs": [
    {
     "data": {
      "text/latex": [
       "$$ \\begin{alignat*}{1}\\max\\quad & 2000 x_{1} + 4000 x_{2} - 280000\\\\\n",
       "\\text{Subject to} \\quad & x_{1} + x_{2} \\leq 100\\\\\n",
       " & 0.7 x_{1} + 3.5 x_{2} \\leq 210\\\\\n",
       " & x_{i} \\geq 0 \\quad\\forall i \\in \\{1,2\\}\\\\\n",
       "\\end{alignat*}\n",
       " $$"
      ],
      "text/plain": [
       "Maximization problem with:\n",
       " * 2 linear constraints\n",
       " * 2 variables\n",
       "Solver is CbcMathProg"
      ]
     },
     "execution_count": 11,
     "metadata": {},
     "output_type": "execute_result"
    }
   ],
   "source": [
    "modelo"
   ]
  },
  {
   "cell_type": "code",
   "execution_count": 12,
   "metadata": {},
   "outputs": [
    {
     "name": "stdout",
     "output_type": "stream",
     "text": [
      "  2.426727 seconds (1.65 M allocations: 85.788 MiB, 1.37% gc time)\n"
     ]
    },
    {
     "data": {
      "text/plain": [
       ":Optimal"
      ]
     },
     "execution_count": 12,
     "metadata": {},
     "output_type": "execute_result"
    }
   ],
   "source": [
    "@time solve(modelo, relaxation=true) # relaxation=True permite valores contínuos"
   ]
  },
  {
   "cell_type": "code",
   "execution_count": 13,
   "metadata": {},
   "outputs": [
    {
     "data": {
      "text/plain": [
       "2-element Array{Float64,1}:\n",
       " 50.0\n",
       " 50.0"
      ]
     },
     "execution_count": 13,
     "metadata": {},
     "output_type": "execute_result"
    }
   ],
   "source": [
    "getvalue(x)"
   ]
  },
  {
   "cell_type": "code",
   "execution_count": 14,
   "metadata": {},
   "outputs": [
    {
     "data": {
      "text/plain": [
       "20000.00000000006"
      ]
     },
     "execution_count": 14,
     "metadata": {},
     "output_type": "execute_result"
    }
   ],
   "source": [
    "getobjectivevalue(modelo)"
   ]
  },
  {
   "cell_type": "markdown",
   "metadata": {},
   "source": [
    "\\# [para plotar, precisa instalar pkg](https://stackoverflow.com/questions/39586694/plot-linear-equations-inequalities-in-julia)\n",
    "```\n",
    "using Pkg\n",
    "Pkg.add(\"ImplicitEquations\")\n",
    "using ImplicitEquations, Plots\n",
    "\n",
    "plot(cbo5, 1:100, 1:100)\n",
    "```"
   ]
  },
  {
   "cell_type": "markdown",
   "metadata": {},
   "source": [
    "<a id=5></a>\n",
    "### E se se construísse um sistema de tratamento das águas residuais?\n",
    "Atendendo aos problemas de poluição já apresentados, a empresa encomendou um projecto de construção de um sistema de tratamento das suas águas residuais, tendo-se concluído que as cargas passavam a 0.6 e 3.0 mg/l, para A e B, respectivamente. Todavia, os custos fixos aumentariam de 20000 contos, e o lucro unitário reduzir-se-ia de 20%, o que foi considerado uma exorbitância."
   ]
  },
  {
   "cell_type": "code",
   "execution_count": 15,
   "metadata": {},
   "outputs": [
    {
     "data": {
      "text/plain": [
       "1×2 Array{Float64,2}:\n",
       " 0.6  3.0"
      ]
     },
     "execution_count": 15,
     "metadata": {},
     "output_type": "execute_result"
    }
   ],
   "source": [
    "sistema = [0.6 3.0]"
   ]
  },
  {
   "cell_type": "code",
   "execution_count": 16,
   "metadata": {},
   "outputs": [
    {
     "data": {
      "text/plain": [
       "300000"
      ]
     },
     "execution_count": 16,
     "metadata": {},
     "output_type": "execute_result"
    }
   ],
   "source": [
    "# Despesa aumenta em 20000\n",
    "despesa2 = despesa + 20000"
   ]
  },
  {
   "cell_type": "code",
   "execution_count": 17,
   "metadata": {},
   "outputs": [
    {
     "data": {
      "text/plain": [
       "1×2 Array{Float64,2}:\n",
       " 1600.0  3200.0"
      ]
     },
     "execution_count": 17,
     "metadata": {},
     "output_type": "execute_result"
    }
   ],
   "source": [
    "# Lucro unitário reduz 20%\n",
    "lucro2 = lucro * 0.8"
   ]
  },
  {
   "cell_type": "markdown",
   "metadata": {},
   "source": [
    "<a id=6></a>\n",
    "### Decisão do município: Sistema de tratamento + limite de poluição\n",
    "\n",
    "**No caso da introdução do sistema de tratamento:**\n",
    "\n",
    "0.6 × x + 3.0 × 4x = 210 ⇔ x = 16.7 e portanto: L = 1600 × 16.7 + 3200 × 66.8 − 300000 = −59520 contos/mês\n",
    "\n",
    "O que também foi considerado inaceitável pois dava um prejuízo maior!\n",
    "\n",
    "*Vamos modelar abaixo a solução ótima para esse cenário:*\n",
    "\n",
    "OBS: como ainda [não é possível mudar coeficientes de restrições](http://www.juliaopt.org/JuMP.jl/v0.12/probmod.html#modifying-constraints), vamos iniciar outro modelo"
   ]
  },
  {
   "cell_type": "code",
   "execution_count": 18,
   "metadata": {},
   "outputs": [
    {
     "data": {
      "text/latex": [
       "$$ x_{i} \\geq 0, \\in \\mathbb{Z}, \\quad\\forall i \\in \\{1,2\\} $$"
      ],
      "text/plain": [
       "2-element Array{JuMP.Variable,1}:\n",
       " x[1]\n",
       " x[2]"
      ]
     },
     "execution_count": 18,
     "metadata": {},
     "output_type": "execute_result"
    }
   ],
   "source": [
    "modelo2 = Model(solver=CbcSolver())\n",
    "@variable(modelo2, x[1:L] >=0, Int)"
   ]
  },
  {
   "cell_type": "code",
   "execution_count": 19,
   "metadata": {},
   "outputs": [
    {
     "data": {
      "text/latex": [
       "$$ x_{1} + x_{2} \\leq 100 $$"
      ],
      "text/plain": [
       "x[1] + x[2] ≤ 100"
      ]
     },
     "execution_count": 19,
     "metadata": {},
     "output_type": "execute_result"
    }
   ],
   "source": [
    "max_producao = 100\n",
    "@constraint(modelo2, producao, sum(x[l] for l = 1:L) <= max_producao)"
   ]
  },
  {
   "cell_type": "code",
   "execution_count": 20,
   "metadata": {},
   "outputs": [
    {
     "data": {
      "text/latex": [
       "$$ 0.6 x_{1} + 3 x_{2} \\leq 210 $$"
      ],
      "text/plain": [
       "0.6 x[1] + 3 x[2] ≤ 210"
      ]
     },
     "execution_count": 20,
     "metadata": {},
     "output_type": "execute_result"
    }
   ],
   "source": [
    "@constraint(modelo2, cbo5, sum(x[l]*sistema[l] for l = 1:L) <= max_cbo5)"
   ]
  },
  {
   "cell_type": "code",
   "execution_count": 21,
   "metadata": {},
   "outputs": [
    {
     "data": {
      "text/latex": [
       "$$ 1600 x_{1} + 3200 x_{2} - 300000 $$"
      ],
      "text/plain": [
       "1600 x[1] + 3200 x[2] - 300000"
      ]
     },
     "execution_count": 21,
     "metadata": {},
     "output_type": "execute_result"
    }
   ],
   "source": [
    "@objective(modelo2, Max, sum(lucro2[l]*x[l] for l in 1:L) - despesa2)"
   ]
  },
  {
   "cell_type": "code",
   "execution_count": 22,
   "metadata": {},
   "outputs": [
    {
     "name": "stdout",
     "output_type": "stream",
     "text": [
      "  0.000859 seconds (81 allocations: 5.141 KiB)\n"
     ]
    },
    {
     "data": {
      "text/plain": [
       ":Optimal"
      ]
     },
     "execution_count": 22,
     "metadata": {},
     "output_type": "execute_result"
    }
   ],
   "source": [
    "@time solve(modelo2, relaxation=true)"
   ]
  },
  {
   "cell_type": "code",
   "execution_count": 23,
   "metadata": {},
   "outputs": [
    {
     "data": {
      "text/plain": [
       "2-element Array{Float64,1}:\n",
       " 37.5\n",
       " 62.5"
      ]
     },
     "execution_count": 23,
     "metadata": {},
     "output_type": "execute_result"
    }
   ],
   "source": [
    "getvalue(x)"
   ]
  },
  {
   "cell_type": "code",
   "execution_count": 24,
   "metadata": {},
   "outputs": [
    {
     "data": {
      "text/plain": [
       "-40000.00000000003"
      ]
     },
     "execution_count": 24,
     "metadata": {},
     "output_type": "execute_result"
    }
   ],
   "source": [
    "getobjectivevalue(modelo2)"
   ]
  },
  {
   "cell_type": "markdown",
   "metadata": {},
   "source": [
    "<a id=7></a>\n",
    "*Solução do Eng. Luís Bela Vida*: Repartir os custos da necessária alteração de produção de (20,80) para (50,50) pela SuperTerra e pelos operadores turísticos.\n",
    "\n",
    "- Lucro actual: 2×20+4×80−280 = 80 ($10^{3}$ contos/mês)\n",
    "- Lucro após alteração: 2 × 50 + 4 × 50 − 280 = 20 ($10^{3}$ contos/mês) "
   ]
  },
  {
   "cell_type": "code",
   "execution_count": 27,
   "metadata": {},
   "outputs": [
    {
     "data": {
      "text/plain": [
       "80000"
      ]
     },
     "execution_count": 27,
     "metadata": {},
     "output_type": "execute_result"
    }
   ],
   "source": [
    "atual = 20*lucro[1] + 80*lucro[2] - 280000"
   ]
  },
  {
   "cell_type": "code",
   "execution_count": 26,
   "metadata": {},
   "outputs": [
    {
     "data": {
      "text/plain": [
       "20000.00000000006"
      ]
     },
     "execution_count": 26,
     "metadata": {},
     "output_type": "execute_result"
    }
   ],
   "source": [
    "apos_alteracao = getobjectivevalue(modelo)"
   ]
  },
  {
   "cell_type": "markdown",
   "metadata": {},
   "source": [
    "Considerando os 3 meses de Verão o prejuízo por ano será de 180000 contos (por sinal muito inferior ao resultante da introdução da estação de tratamento...)."
   ]
  },
  {
   "cell_type": "code",
   "execution_count": 28,
   "metadata": {},
   "outputs": [
    {
     "data": {
      "text/plain": [
       "179999.99999999977"
      ]
     },
     "execution_count": 28,
     "metadata": {},
     "output_type": "execute_result"
    }
   ],
   "source": [
    "12* atual - (9*atual + 3*apos_alteracao)"
   ]
  }
 ],
 "metadata": {
  "kernelspec": {
   "display_name": "Julia 0.6.4",
   "language": "julia",
   "name": "julia-0.6"
  },
  "language_info": {
   "file_extension": ".jl",
   "mimetype": "application/julia",
   "name": "julia",
   "version": "0.6.4"
  }
 },
 "nbformat": 4,
 "nbformat_minor": 2
}
